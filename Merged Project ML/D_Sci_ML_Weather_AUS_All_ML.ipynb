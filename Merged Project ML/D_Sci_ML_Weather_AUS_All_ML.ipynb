{
 "cells": [
  {
   "cell_type": "markdown",
   "metadata": {},
   "source": [
    "\n",
    "<h1 align=\"center\"><font size=\"5\">Final Project: Classification with Python</font></h1>\n"
   ]
  },
  {
   "cell_type": "markdown",
   "metadata": {},
   "source": [
    "\n"
   ]
  },
  {
   "cell_type": "markdown",
   "metadata": {},
   "source": [
    "# Things to be done\n"
   ]
  },
  {
   "cell_type": "markdown",
   "metadata": {},
   "source": [
    "We will use some of the algorithms taught in the course, specifically:\n",
    "\n",
    "1.  Linear Regression\n",
    "2.  KNN\n",
    "3.  Decision Trees\n",
    "4.  Logistic Regression\n",
    "5.  SVM\n",
    "\n",
    "We will evaluate our models using:\n",
    "\n",
    "1.  Accuracy Score\n",
    "2.  Jaccard Index\n",
    "3.  F1-Score\n",
    "4.  LogLoss\n",
    "5.  Mean Absolute Error\n",
    "6.  Mean Squared Error\n",
    "7.  R2-Score\n",
    "\n",
    "Finally, you will use your models to generate the report displaying the accuracy scores.\n"
   ]
  },
  {
   "cell_type": "markdown",
   "metadata": {},
   "source": [
    "# About The Dataset\n"
   ]
  },
  {
   "cell_type": "markdown",
   "metadata": {},
   "source": [
    "The original source of the data is Australian Government's Bureau of Meteorology and the latest data can be gathered from [http://www.bom.gov.au/climate/dwo/](http://www.bom.gov.au/climate/dwo/?utm_medium=Exinfluencer&utm_source=Exinfluencer&utm_content=000026UJ&utm_term=10006555&utm_id=NA-SkillsNetwork-Channel-SkillsNetworkCoursesIBMDeveloperSkillsNetworkML0101ENSkillsNetwork20718538-2022-01-01).\n",
    "\n",
    "The dataset to be used has extra columns like 'RainToday' and our target is 'RainTomorrow', which was gathered from the Rattle at [https://bitbucket.org/kayontoga/rattle/src/master/data/weatherAUS.RData](https://bitbucket.org/kayontoga/rattle/src/master/data/weatherAUS.RData?utm_medium=Exinfluencer&utm_source=Exinfluencer&utm_content=000026UJ&utm_term=10006555&utm_id=NA-SkillsNetwork-Channel-SkillsNetworkCoursesIBMDeveloperSkillsNetworkML0101ENSkillsNetwork20718538-2022-01-01)\n"
   ]
  },
  {
   "cell_type": "markdown",
   "metadata": {},
   "source": [
    "This dataset contains observations of weather metrics for each day from 2008 to 2017. The **weatherAUS.csv** dataset includes the following fields:\n",
    "\n",
    "| Field         | Description                                           | Unit            | Type   |\n",
    "| ------------- | ----------------------------------------------------- | --------------- | ------ |\n",
    "| Date          | Date of the Observation in YYYY-MM-DD                 | Date            | object |\n",
    "| Location      | Location of the Observation                           | Location        | object |\n",
    "| MinTemp       | Minimum temperature                                   | Celsius         | float  |\n",
    "| MaxTemp       | Maximum temperature                                   | Celsius         | float  |\n",
    "| Rainfall      | Amount of rainfall                                    | Millimeters     | float  |\n",
    "| Evaporation   | Amount of evaporation                                 | Millimeters     | float  |\n",
    "| Sunshine      | Amount of bright sunshine                             | hours           | float  |\n",
    "| WindGustDir   | Direction of the strongest gust                       | Compass Points  | object |\n",
    "| WindGustSpeed | Speed of the strongest gust                           | Kilometers/Hour | object |\n",
    "| WindDir9am    | Wind direction averaged of 10 minutes prior to 9am    | Compass Points  | object |\n",
    "| WindDir3pm    | Wind direction averaged of 10 minutes prior to 3pm    | Compass Points  | object |\n",
    "| WindSpeed9am  | Wind speed averaged of 10 minutes prior to 9am        | Kilometers/Hour | float  |\n",
    "| WindSpeed3pm  | Wind speed averaged of 10 minutes prior to 3pm        | Kilometers/Hour | float  |\n",
    "| Humidity9am   | Humidity at 9am                                       | Percent         | float  |\n",
    "| Humidity3pm   | Humidity at 3pm                                       | Percent         | float  |\n",
    "| Pressure9am   | Atmospheric pressure reduced to mean sea level at 9am | Hectopascal     | float  |\n",
    "| Pressure3pm   | Atmospheric pressure reduced to mean sea level at 3pm | Hectopascal     | float  |\n",
    "| Cloud9am      | Fraction of the sky obscured by cloud at 9am          | Eights          | float  |\n",
    "| Cloud3pm      | Fraction of the sky obscured by cloud at 3pm          | Eights          | float  |\n",
    "| Temp9am       | Temperature at 9am                                    | Celsius         | float  |\n",
    "| Temp3pm       | Temperature at 3pm                                    | Celsius         | float  |\n",
    "| RainToday     | If there was rain today                               | Yes/No          | object |\n",
    "| RISK_MM       | Amount of rain tomorrow                               | Millimeters     | float  |\n",
    "| RainTomorrow  | If there is rain tomorrow                             | Yes/No          | float  |\n",
    "\n",
    "Column definitions were gathered from [http://www.bom.gov.au/climate/dwo/IDCJDW0000.shtml](http://www.bom.gov.au/climate/dwo/IDCJDW0000.shtml?utm_medium=Exinfluencer&utm_source=Exinfluencer&utm_content=000026UJ&utm_term=10006555&utm_id=NA-SkillsNetwork-Channel-SkillsNetworkCoursesIBMDeveloperSkillsNetworkML0101ENSkillsNetwork20718538-2022-01-01)\n"
   ]
  },
  {
   "cell_type": "markdown",
   "metadata": {},
   "source": [
    "## **Import the required libraries**\n"
   ]
  },
  {
   "cell_type": "code",
   "execution_count": null,
   "metadata": {},
   "outputs": [],
   "source": [
    "# Surpress warnings:\n",
    "def warn(*args, **kwargs):\n",
    "    pass\n",
    "import warnings\n",
    "warnings.warn = warn"
   ]
  },
  {
   "cell_type": "code",
   "execution_count": 29,
   "metadata": {},
   "outputs": [],
   "source": [
    "import pandas as pd\n",
    "from sklearn.linear_model import LogisticRegression\n",
    "from sklearn.linear_model import LinearRegression\n",
    "from sklearn import preprocessing\n",
    "import numpy as np\n",
    "from sklearn.neighbors import KNeighborsClassifier\n",
    "from sklearn.model_selection import GridSearchCV\n",
    "from sklearn.model_selection import train_test_split\n",
    "from sklearn.neighbors import KNeighborsClassifier\n",
    "from sklearn.tree import DecisionTreeClassifier\n",
    "from sklearn import svm\n",
    "from sklearn.metrics import jaccard_score\n",
    "from sklearn.metrics import f1_score\n",
    "from sklearn.metrics import log_loss\n",
    "import matplotlib.pyplot as plt\n",
    "from sklearn.metrics import confusion_matrix, accuracy_score\n",
    "import sklearn.metrics as metrics"
   ]
  },
  {
   "cell_type": "markdown",
   "metadata": {},
   "source": [
    "### Importing the Dataset\n"
   ]
  },
  {
   "cell_type": "code",
   "execution_count": 30,
   "metadata": {},
   "outputs": [
    {
     "data": {
      "text/html": [
       "<div>\n",
       "<style scoped>\n",
       "    .dataframe tbody tr th:only-of-type {\n",
       "        vertical-align: middle;\n",
       "    }\n",
       "\n",
       "    .dataframe tbody tr th {\n",
       "        vertical-align: top;\n",
       "    }\n",
       "\n",
       "    .dataframe thead th {\n",
       "        text-align: right;\n",
       "    }\n",
       "</style>\n",
       "<table border=\"1\" class=\"dataframe\">\n",
       "  <thead>\n",
       "    <tr style=\"text-align: right;\">\n",
       "      <th></th>\n",
       "      <th>Date</th>\n",
       "      <th>MinTemp</th>\n",
       "      <th>MaxTemp</th>\n",
       "      <th>Rainfall</th>\n",
       "      <th>Evaporation</th>\n",
       "      <th>Sunshine</th>\n",
       "      <th>WindGustDir</th>\n",
       "      <th>WindGustSpeed</th>\n",
       "      <th>WindDir9am</th>\n",
       "      <th>WindDir3pm</th>\n",
       "      <th>...</th>\n",
       "      <th>Humidity9am</th>\n",
       "      <th>Humidity3pm</th>\n",
       "      <th>Pressure9am</th>\n",
       "      <th>Pressure3pm</th>\n",
       "      <th>Cloud9am</th>\n",
       "      <th>Cloud3pm</th>\n",
       "      <th>Temp9am</th>\n",
       "      <th>Temp3pm</th>\n",
       "      <th>RainToday</th>\n",
       "      <th>RainTomorrow</th>\n",
       "    </tr>\n",
       "  </thead>\n",
       "  <tbody>\n",
       "    <tr>\n",
       "      <th>0</th>\n",
       "      <td>2/1/2008</td>\n",
       "      <td>19.5</td>\n",
       "      <td>22.4</td>\n",
       "      <td>15.6</td>\n",
       "      <td>6.2</td>\n",
       "      <td>0.0</td>\n",
       "      <td>W</td>\n",
       "      <td>41</td>\n",
       "      <td>S</td>\n",
       "      <td>SSW</td>\n",
       "      <td>...</td>\n",
       "      <td>92</td>\n",
       "      <td>84</td>\n",
       "      <td>1017.6</td>\n",
       "      <td>1017.4</td>\n",
       "      <td>8</td>\n",
       "      <td>8</td>\n",
       "      <td>20.7</td>\n",
       "      <td>20.9</td>\n",
       "      <td>Yes</td>\n",
       "      <td>Yes</td>\n",
       "    </tr>\n",
       "    <tr>\n",
       "      <th>1</th>\n",
       "      <td>2/2/2008</td>\n",
       "      <td>19.5</td>\n",
       "      <td>25.6</td>\n",
       "      <td>6.0</td>\n",
       "      <td>3.4</td>\n",
       "      <td>2.7</td>\n",
       "      <td>W</td>\n",
       "      <td>41</td>\n",
       "      <td>W</td>\n",
       "      <td>E</td>\n",
       "      <td>...</td>\n",
       "      <td>83</td>\n",
       "      <td>73</td>\n",
       "      <td>1017.9</td>\n",
       "      <td>1016.4</td>\n",
       "      <td>7</td>\n",
       "      <td>7</td>\n",
       "      <td>22.4</td>\n",
       "      <td>24.8</td>\n",
       "      <td>Yes</td>\n",
       "      <td>Yes</td>\n",
       "    </tr>\n",
       "    <tr>\n",
       "      <th>2</th>\n",
       "      <td>2/3/2008</td>\n",
       "      <td>21.6</td>\n",
       "      <td>24.5</td>\n",
       "      <td>6.6</td>\n",
       "      <td>2.4</td>\n",
       "      <td>0.1</td>\n",
       "      <td>W</td>\n",
       "      <td>41</td>\n",
       "      <td>ESE</td>\n",
       "      <td>ESE</td>\n",
       "      <td>...</td>\n",
       "      <td>88</td>\n",
       "      <td>86</td>\n",
       "      <td>1016.7</td>\n",
       "      <td>1015.6</td>\n",
       "      <td>7</td>\n",
       "      <td>8</td>\n",
       "      <td>23.5</td>\n",
       "      <td>23.0</td>\n",
       "      <td>Yes</td>\n",
       "      <td>Yes</td>\n",
       "    </tr>\n",
       "    <tr>\n",
       "      <th>3</th>\n",
       "      <td>2/4/2008</td>\n",
       "      <td>20.2</td>\n",
       "      <td>22.8</td>\n",
       "      <td>18.8</td>\n",
       "      <td>2.2</td>\n",
       "      <td>0.0</td>\n",
       "      <td>W</td>\n",
       "      <td>41</td>\n",
       "      <td>NNE</td>\n",
       "      <td>E</td>\n",
       "      <td>...</td>\n",
       "      <td>83</td>\n",
       "      <td>90</td>\n",
       "      <td>1014.2</td>\n",
       "      <td>1011.8</td>\n",
       "      <td>8</td>\n",
       "      <td>8</td>\n",
       "      <td>21.4</td>\n",
       "      <td>20.9</td>\n",
       "      <td>Yes</td>\n",
       "      <td>Yes</td>\n",
       "    </tr>\n",
       "    <tr>\n",
       "      <th>4</th>\n",
       "      <td>2/5/2008</td>\n",
       "      <td>19.7</td>\n",
       "      <td>25.7</td>\n",
       "      <td>77.4</td>\n",
       "      <td>4.8</td>\n",
       "      <td>0.0</td>\n",
       "      <td>W</td>\n",
       "      <td>41</td>\n",
       "      <td>NNE</td>\n",
       "      <td>W</td>\n",
       "      <td>...</td>\n",
       "      <td>88</td>\n",
       "      <td>74</td>\n",
       "      <td>1008.3</td>\n",
       "      <td>1004.8</td>\n",
       "      <td>8</td>\n",
       "      <td>8</td>\n",
       "      <td>22.5</td>\n",
       "      <td>25.5</td>\n",
       "      <td>Yes</td>\n",
       "      <td>Yes</td>\n",
       "    </tr>\n",
       "  </tbody>\n",
       "</table>\n",
       "<p>5 rows × 22 columns</p>\n",
       "</div>"
      ],
      "text/plain": [
       "       Date  MinTemp  MaxTemp  Rainfall  Evaporation  Sunshine WindGustDir  \\\n",
       "0  2/1/2008     19.5     22.4      15.6          6.2       0.0           W   \n",
       "1  2/2/2008     19.5     25.6       6.0          3.4       2.7           W   \n",
       "2  2/3/2008     21.6     24.5       6.6          2.4       0.1           W   \n",
       "3  2/4/2008     20.2     22.8      18.8          2.2       0.0           W   \n",
       "4  2/5/2008     19.7     25.7      77.4          4.8       0.0           W   \n",
       "\n",
       "   WindGustSpeed WindDir9am WindDir3pm  ...  Humidity9am  Humidity3pm  \\\n",
       "0             41          S        SSW  ...           92           84   \n",
       "1             41          W          E  ...           83           73   \n",
       "2             41        ESE        ESE  ...           88           86   \n",
       "3             41        NNE          E  ...           83           90   \n",
       "4             41        NNE          W  ...           88           74   \n",
       "\n",
       "   Pressure9am  Pressure3pm  Cloud9am  Cloud3pm  Temp9am  Temp3pm  RainToday  \\\n",
       "0       1017.6       1017.4         8         8     20.7     20.9        Yes   \n",
       "1       1017.9       1016.4         7         7     22.4     24.8        Yes   \n",
       "2       1016.7       1015.6         7         8     23.5     23.0        Yes   \n",
       "3       1014.2       1011.8         8         8     21.4     20.9        Yes   \n",
       "4       1008.3       1004.8         8         8     22.5     25.5        Yes   \n",
       "\n",
       "   RainTomorrow  \n",
       "0           Yes  \n",
       "1           Yes  \n",
       "2           Yes  \n",
       "3           Yes  \n",
       "4           Yes  \n",
       "\n",
       "[5 rows x 22 columns]"
      ]
     },
     "execution_count": 30,
     "metadata": {},
     "output_type": "execute_result"
    }
   ],
   "source": [
    "df = pd.read_csv('https://cf-courses-data.s3.us.cloud-object-storage.appdomain.cloud/IBMDeveloperSkillsNetwork-ML0101EN-SkillUp/labs/ML-FinalAssignment/Weather_Data.csv')\n",
    "\n",
    "df.head()"
   ]
  },
  {
   "cell_type": "markdown",
   "metadata": {},
   "source": [
    "### Data Preprocessing\n"
   ]
  },
  {
   "cell_type": "markdown",
   "metadata": {},
   "source": [
    "#### Transforming Categorical Variables\n"
   ]
  },
  {
   "cell_type": "markdown",
   "metadata": {},
   "source": [
    "First, we need to convert categorical variables to binary variables. We will use pandas `get_dummies()` method for this.\n"
   ]
  },
  {
   "cell_type": "code",
   "execution_count": 4,
   "metadata": {},
   "outputs": [
    {
     "data": {
      "text/html": [
       "<div>\n",
       "<style scoped>\n",
       "    .dataframe tbody tr th:only-of-type {\n",
       "        vertical-align: middle;\n",
       "    }\n",
       "\n",
       "    .dataframe tbody tr th {\n",
       "        vertical-align: top;\n",
       "    }\n",
       "\n",
       "    .dataframe thead th {\n",
       "        text-align: right;\n",
       "    }\n",
       "</style>\n",
       "<table border=\"1\" class=\"dataframe\">\n",
       "  <thead>\n",
       "    <tr style=\"text-align: right;\">\n",
       "      <th></th>\n",
       "      <th>Date</th>\n",
       "      <th>MinTemp</th>\n",
       "      <th>MaxTemp</th>\n",
       "      <th>Rainfall</th>\n",
       "      <th>Evaporation</th>\n",
       "      <th>Sunshine</th>\n",
       "      <th>WindGustSpeed</th>\n",
       "      <th>WindSpeed9am</th>\n",
       "      <th>WindSpeed3pm</th>\n",
       "      <th>Humidity9am</th>\n",
       "      <th>...</th>\n",
       "      <th>WindDir3pm_NNW</th>\n",
       "      <th>WindDir3pm_NW</th>\n",
       "      <th>WindDir3pm_S</th>\n",
       "      <th>WindDir3pm_SE</th>\n",
       "      <th>WindDir3pm_SSE</th>\n",
       "      <th>WindDir3pm_SSW</th>\n",
       "      <th>WindDir3pm_SW</th>\n",
       "      <th>WindDir3pm_W</th>\n",
       "      <th>WindDir3pm_WNW</th>\n",
       "      <th>WindDir3pm_WSW</th>\n",
       "    </tr>\n",
       "  </thead>\n",
       "  <tbody>\n",
       "    <tr>\n",
       "      <th>0</th>\n",
       "      <td>2/1/2008</td>\n",
       "      <td>19.5</td>\n",
       "      <td>22.4</td>\n",
       "      <td>15.6</td>\n",
       "      <td>6.2</td>\n",
       "      <td>0.0</td>\n",
       "      <td>41</td>\n",
       "      <td>17</td>\n",
       "      <td>20</td>\n",
       "      <td>92</td>\n",
       "      <td>...</td>\n",
       "      <td>0</td>\n",
       "      <td>0</td>\n",
       "      <td>0</td>\n",
       "      <td>0</td>\n",
       "      <td>0</td>\n",
       "      <td>1</td>\n",
       "      <td>0</td>\n",
       "      <td>0</td>\n",
       "      <td>0</td>\n",
       "      <td>0</td>\n",
       "    </tr>\n",
       "    <tr>\n",
       "      <th>1</th>\n",
       "      <td>2/2/2008</td>\n",
       "      <td>19.5</td>\n",
       "      <td>25.6</td>\n",
       "      <td>6.0</td>\n",
       "      <td>3.4</td>\n",
       "      <td>2.7</td>\n",
       "      <td>41</td>\n",
       "      <td>9</td>\n",
       "      <td>13</td>\n",
       "      <td>83</td>\n",
       "      <td>...</td>\n",
       "      <td>0</td>\n",
       "      <td>0</td>\n",
       "      <td>0</td>\n",
       "      <td>0</td>\n",
       "      <td>0</td>\n",
       "      <td>0</td>\n",
       "      <td>0</td>\n",
       "      <td>0</td>\n",
       "      <td>0</td>\n",
       "      <td>0</td>\n",
       "    </tr>\n",
       "    <tr>\n",
       "      <th>2</th>\n",
       "      <td>2/3/2008</td>\n",
       "      <td>21.6</td>\n",
       "      <td>24.5</td>\n",
       "      <td>6.6</td>\n",
       "      <td>2.4</td>\n",
       "      <td>0.1</td>\n",
       "      <td>41</td>\n",
       "      <td>17</td>\n",
       "      <td>2</td>\n",
       "      <td>88</td>\n",
       "      <td>...</td>\n",
       "      <td>0</td>\n",
       "      <td>0</td>\n",
       "      <td>0</td>\n",
       "      <td>0</td>\n",
       "      <td>0</td>\n",
       "      <td>0</td>\n",
       "      <td>0</td>\n",
       "      <td>0</td>\n",
       "      <td>0</td>\n",
       "      <td>0</td>\n",
       "    </tr>\n",
       "    <tr>\n",
       "      <th>3</th>\n",
       "      <td>2/4/2008</td>\n",
       "      <td>20.2</td>\n",
       "      <td>22.8</td>\n",
       "      <td>18.8</td>\n",
       "      <td>2.2</td>\n",
       "      <td>0.0</td>\n",
       "      <td>41</td>\n",
       "      <td>22</td>\n",
       "      <td>20</td>\n",
       "      <td>83</td>\n",
       "      <td>...</td>\n",
       "      <td>0</td>\n",
       "      <td>0</td>\n",
       "      <td>0</td>\n",
       "      <td>0</td>\n",
       "      <td>0</td>\n",
       "      <td>0</td>\n",
       "      <td>0</td>\n",
       "      <td>0</td>\n",
       "      <td>0</td>\n",
       "      <td>0</td>\n",
       "    </tr>\n",
       "    <tr>\n",
       "      <th>4</th>\n",
       "      <td>2/5/2008</td>\n",
       "      <td>19.7</td>\n",
       "      <td>25.7</td>\n",
       "      <td>77.4</td>\n",
       "      <td>4.8</td>\n",
       "      <td>0.0</td>\n",
       "      <td>41</td>\n",
       "      <td>11</td>\n",
       "      <td>6</td>\n",
       "      <td>88</td>\n",
       "      <td>...</td>\n",
       "      <td>0</td>\n",
       "      <td>0</td>\n",
       "      <td>0</td>\n",
       "      <td>0</td>\n",
       "      <td>0</td>\n",
       "      <td>0</td>\n",
       "      <td>0</td>\n",
       "      <td>1</td>\n",
       "      <td>0</td>\n",
       "      <td>0</td>\n",
       "    </tr>\n",
       "    <tr>\n",
       "      <th>...</th>\n",
       "      <td>...</td>\n",
       "      <td>...</td>\n",
       "      <td>...</td>\n",
       "      <td>...</td>\n",
       "      <td>...</td>\n",
       "      <td>...</td>\n",
       "      <td>...</td>\n",
       "      <td>...</td>\n",
       "      <td>...</td>\n",
       "      <td>...</td>\n",
       "      <td>...</td>\n",
       "      <td>...</td>\n",
       "      <td>...</td>\n",
       "      <td>...</td>\n",
       "      <td>...</td>\n",
       "      <td>...</td>\n",
       "      <td>...</td>\n",
       "      <td>...</td>\n",
       "      <td>...</td>\n",
       "      <td>...</td>\n",
       "      <td>...</td>\n",
       "    </tr>\n",
       "    <tr>\n",
       "      <th>3266</th>\n",
       "      <td>6/21/2017</td>\n",
       "      <td>8.6</td>\n",
       "      <td>19.6</td>\n",
       "      <td>0.0</td>\n",
       "      <td>2.0</td>\n",
       "      <td>7.8</td>\n",
       "      <td>37</td>\n",
       "      <td>22</td>\n",
       "      <td>20</td>\n",
       "      <td>73</td>\n",
       "      <td>...</td>\n",
       "      <td>0</td>\n",
       "      <td>0</td>\n",
       "      <td>0</td>\n",
       "      <td>0</td>\n",
       "      <td>1</td>\n",
       "      <td>0</td>\n",
       "      <td>0</td>\n",
       "      <td>0</td>\n",
       "      <td>0</td>\n",
       "      <td>0</td>\n",
       "    </tr>\n",
       "    <tr>\n",
       "      <th>3267</th>\n",
       "      <td>6/22/2017</td>\n",
       "      <td>9.3</td>\n",
       "      <td>19.2</td>\n",
       "      <td>0.0</td>\n",
       "      <td>2.0</td>\n",
       "      <td>9.2</td>\n",
       "      <td>30</td>\n",
       "      <td>20</td>\n",
       "      <td>7</td>\n",
       "      <td>78</td>\n",
       "      <td>...</td>\n",
       "      <td>0</td>\n",
       "      <td>0</td>\n",
       "      <td>0</td>\n",
       "      <td>0</td>\n",
       "      <td>0</td>\n",
       "      <td>0</td>\n",
       "      <td>0</td>\n",
       "      <td>0</td>\n",
       "      <td>0</td>\n",
       "      <td>0</td>\n",
       "    </tr>\n",
       "    <tr>\n",
       "      <th>3268</th>\n",
       "      <td>6/23/2017</td>\n",
       "      <td>9.4</td>\n",
       "      <td>17.7</td>\n",
       "      <td>0.0</td>\n",
       "      <td>2.4</td>\n",
       "      <td>2.7</td>\n",
       "      <td>24</td>\n",
       "      <td>15</td>\n",
       "      <td>13</td>\n",
       "      <td>85</td>\n",
       "      <td>...</td>\n",
       "      <td>0</td>\n",
       "      <td>0</td>\n",
       "      <td>0</td>\n",
       "      <td>0</td>\n",
       "      <td>0</td>\n",
       "      <td>0</td>\n",
       "      <td>0</td>\n",
       "      <td>0</td>\n",
       "      <td>0</td>\n",
       "      <td>0</td>\n",
       "    </tr>\n",
       "    <tr>\n",
       "      <th>3269</th>\n",
       "      <td>6/24/2017</td>\n",
       "      <td>10.1</td>\n",
       "      <td>19.3</td>\n",
       "      <td>0.0</td>\n",
       "      <td>1.4</td>\n",
       "      <td>9.3</td>\n",
       "      <td>43</td>\n",
       "      <td>17</td>\n",
       "      <td>19</td>\n",
       "      <td>56</td>\n",
       "      <td>...</td>\n",
       "      <td>0</td>\n",
       "      <td>0</td>\n",
       "      <td>0</td>\n",
       "      <td>0</td>\n",
       "      <td>0</td>\n",
       "      <td>0</td>\n",
       "      <td>0</td>\n",
       "      <td>1</td>\n",
       "      <td>0</td>\n",
       "      <td>0</td>\n",
       "    </tr>\n",
       "    <tr>\n",
       "      <th>3270</th>\n",
       "      <td>6/25/2017</td>\n",
       "      <td>7.6</td>\n",
       "      <td>19.3</td>\n",
       "      <td>0.0</td>\n",
       "      <td>3.4</td>\n",
       "      <td>9.4</td>\n",
       "      <td>35</td>\n",
       "      <td>13</td>\n",
       "      <td>13</td>\n",
       "      <td>73</td>\n",
       "      <td>...</td>\n",
       "      <td>0</td>\n",
       "      <td>0</td>\n",
       "      <td>0</td>\n",
       "      <td>0</td>\n",
       "      <td>0</td>\n",
       "      <td>0</td>\n",
       "      <td>0</td>\n",
       "      <td>1</td>\n",
       "      <td>0</td>\n",
       "      <td>0</td>\n",
       "    </tr>\n",
       "  </tbody>\n",
       "</table>\n",
       "<p>3271 rows × 68 columns</p>\n",
       "</div>"
      ],
      "text/plain": [
       "           Date  MinTemp  MaxTemp  Rainfall  Evaporation  Sunshine  \\\n",
       "0      2/1/2008     19.5     22.4      15.6          6.2       0.0   \n",
       "1      2/2/2008     19.5     25.6       6.0          3.4       2.7   \n",
       "2      2/3/2008     21.6     24.5       6.6          2.4       0.1   \n",
       "3      2/4/2008     20.2     22.8      18.8          2.2       0.0   \n",
       "4      2/5/2008     19.7     25.7      77.4          4.8       0.0   \n",
       "...         ...      ...      ...       ...          ...       ...   \n",
       "3266  6/21/2017      8.6     19.6       0.0          2.0       7.8   \n",
       "3267  6/22/2017      9.3     19.2       0.0          2.0       9.2   \n",
       "3268  6/23/2017      9.4     17.7       0.0          2.4       2.7   \n",
       "3269  6/24/2017     10.1     19.3       0.0          1.4       9.3   \n",
       "3270  6/25/2017      7.6     19.3       0.0          3.4       9.4   \n",
       "\n",
       "      WindGustSpeed  WindSpeed9am  WindSpeed3pm  Humidity9am  ...  \\\n",
       "0                41            17            20           92  ...   \n",
       "1                41             9            13           83  ...   \n",
       "2                41            17             2           88  ...   \n",
       "3                41            22            20           83  ...   \n",
       "4                41            11             6           88  ...   \n",
       "...             ...           ...           ...          ...  ...   \n",
       "3266             37            22            20           73  ...   \n",
       "3267             30            20             7           78  ...   \n",
       "3268             24            15            13           85  ...   \n",
       "3269             43            17            19           56  ...   \n",
       "3270             35            13            13           73  ...   \n",
       "\n",
       "      WindDir3pm_NNW  WindDir3pm_NW  WindDir3pm_S  WindDir3pm_SE  \\\n",
       "0                  0              0             0              0   \n",
       "1                  0              0             0              0   \n",
       "2                  0              0             0              0   \n",
       "3                  0              0             0              0   \n",
       "4                  0              0             0              0   \n",
       "...              ...            ...           ...            ...   \n",
       "3266               0              0             0              0   \n",
       "3267               0              0             0              0   \n",
       "3268               0              0             0              0   \n",
       "3269               0              0             0              0   \n",
       "3270               0              0             0              0   \n",
       "\n",
       "      WindDir3pm_SSE  WindDir3pm_SSW  WindDir3pm_SW WindDir3pm_W  \\\n",
       "0                  0               1              0            0   \n",
       "1                  0               0              0            0   \n",
       "2                  0               0              0            0   \n",
       "3                  0               0              0            0   \n",
       "4                  0               0              0            1   \n",
       "...              ...             ...            ...          ...   \n",
       "3266               1               0              0            0   \n",
       "3267               0               0              0            0   \n",
       "3268               0               0              0            0   \n",
       "3269               0               0              0            1   \n",
       "3270               0               0              0            1   \n",
       "\n",
       "      WindDir3pm_WNW  WindDir3pm_WSW  \n",
       "0                  0               0  \n",
       "1                  0               0  \n",
       "2                  0               0  \n",
       "3                  0               0  \n",
       "4                  0               0  \n",
       "...              ...             ...  \n",
       "3266               0               0  \n",
       "3267               0               0  \n",
       "3268               0               0  \n",
       "3269               0               0  \n",
       "3270               0               0  \n",
       "\n",
       "[3271 rows x 68 columns]"
      ]
     },
     "execution_count": 4,
     "metadata": {},
     "output_type": "execute_result"
    }
   ],
   "source": [
    "df_sydney_processed = pd.get_dummies(data=df, columns=['RainToday', 'WindGustDir', 'WindDir9am', 'WindDir3pm'])\n",
    "df_sydney_processed"
   ]
  },
  {
   "cell_type": "markdown",
   "metadata": {},
   "source": [
    "Next, we replace the values of the 'RainTomorrow' column changing them from a categorical column to a binary column. We do not use the `get_dummies` method because we would end up with two columns for 'RainTomorrow' and we do not want, since 'RainTomorrow' is our target.\n"
   ]
  },
  {
   "cell_type": "code",
   "execution_count": 5,
   "metadata": {},
   "outputs": [],
   "source": [
    "df_sydney_processed.replace(['No', 'Yes'], [0,1], inplace=True)"
   ]
  },
  {
   "cell_type": "markdown",
   "metadata": {},
   "source": [
    "### Training Data and Test Data\n"
   ]
  },
  {
   "cell_type": "markdown",
   "metadata": {},
   "source": [
    "Now, we set our 'features' or x values and our Y or target variable.\n"
   ]
  },
  {
   "cell_type": "code",
   "execution_count": 6,
   "metadata": {},
   "outputs": [],
   "source": [
    "df_sydney_processed.drop('Date',axis=1,inplace=True)"
   ]
  },
  {
   "cell_type": "code",
   "execution_count": 7,
   "metadata": {},
   "outputs": [],
   "source": [
    "df_sydney_processed = df_sydney_processed.astype(float)"
   ]
  },
  {
   "cell_type": "code",
   "execution_count": 8,
   "metadata": {},
   "outputs": [
    {
     "data": {
      "text/plain": [
       "0       1.0\n",
       "1       1.0\n",
       "2       1.0\n",
       "3       1.0\n",
       "4       1.0\n",
       "       ... \n",
       "3266    0.0\n",
       "3267    0.0\n",
       "3268    0.0\n",
       "3269    0.0\n",
       "3270    0.0\n",
       "Name: RainTomorrow, Length: 3271, dtype: float64"
      ]
     },
     "execution_count": 8,
     "metadata": {},
     "output_type": "execute_result"
    }
   ],
   "source": [
    "features = df_sydney_processed.drop(columns='RainTomorrow', axis=1)\n",
    "Y = df_sydney_processed['RainTomorrow']\n",
    "Y"
   ]
  },
  {
   "cell_type": "code",
   "execution_count": 23,
   "metadata": {},
   "outputs": [
    {
     "data": {
      "text/html": [
       "<div>\n",
       "<style scoped>\n",
       "    .dataframe tbody tr th:only-of-type {\n",
       "        vertical-align: middle;\n",
       "    }\n",
       "\n",
       "    .dataframe tbody tr th {\n",
       "        vertical-align: top;\n",
       "    }\n",
       "\n",
       "    .dataframe thead th {\n",
       "        text-align: right;\n",
       "    }\n",
       "</style>\n",
       "<table border=\"1\" class=\"dataframe\">\n",
       "  <thead>\n",
       "    <tr style=\"text-align: right;\">\n",
       "      <th></th>\n",
       "      <th>MinTemp</th>\n",
       "      <th>MaxTemp</th>\n",
       "      <th>Rainfall</th>\n",
       "      <th>Evaporation</th>\n",
       "      <th>Sunshine</th>\n",
       "      <th>WindGustSpeed</th>\n",
       "      <th>WindSpeed9am</th>\n",
       "      <th>WindSpeed3pm</th>\n",
       "      <th>Humidity9am</th>\n",
       "      <th>Humidity3pm</th>\n",
       "      <th>...</th>\n",
       "      <th>WindDir3pm_NNW</th>\n",
       "      <th>WindDir3pm_NW</th>\n",
       "      <th>WindDir3pm_S</th>\n",
       "      <th>WindDir3pm_SE</th>\n",
       "      <th>WindDir3pm_SSE</th>\n",
       "      <th>WindDir3pm_SSW</th>\n",
       "      <th>WindDir3pm_SW</th>\n",
       "      <th>WindDir3pm_W</th>\n",
       "      <th>WindDir3pm_WNW</th>\n",
       "      <th>WindDir3pm_WSW</th>\n",
       "    </tr>\n",
       "  </thead>\n",
       "  <tbody>\n",
       "    <tr>\n",
       "      <th>0</th>\n",
       "      <td>19.5</td>\n",
       "      <td>22.4</td>\n",
       "      <td>15.6</td>\n",
       "      <td>6.2</td>\n",
       "      <td>0.0</td>\n",
       "      <td>41.0</td>\n",
       "      <td>17.0</td>\n",
       "      <td>20.0</td>\n",
       "      <td>92.0</td>\n",
       "      <td>84.0</td>\n",
       "      <td>...</td>\n",
       "      <td>0.0</td>\n",
       "      <td>0.0</td>\n",
       "      <td>0.0</td>\n",
       "      <td>0.0</td>\n",
       "      <td>0.0</td>\n",
       "      <td>1.0</td>\n",
       "      <td>0.0</td>\n",
       "      <td>0.0</td>\n",
       "      <td>0.0</td>\n",
       "      <td>0.0</td>\n",
       "    </tr>\n",
       "    <tr>\n",
       "      <th>1</th>\n",
       "      <td>19.5</td>\n",
       "      <td>25.6</td>\n",
       "      <td>6.0</td>\n",
       "      <td>3.4</td>\n",
       "      <td>2.7</td>\n",
       "      <td>41.0</td>\n",
       "      <td>9.0</td>\n",
       "      <td>13.0</td>\n",
       "      <td>83.0</td>\n",
       "      <td>73.0</td>\n",
       "      <td>...</td>\n",
       "      <td>0.0</td>\n",
       "      <td>0.0</td>\n",
       "      <td>0.0</td>\n",
       "      <td>0.0</td>\n",
       "      <td>0.0</td>\n",
       "      <td>0.0</td>\n",
       "      <td>0.0</td>\n",
       "      <td>0.0</td>\n",
       "      <td>0.0</td>\n",
       "      <td>0.0</td>\n",
       "    </tr>\n",
       "    <tr>\n",
       "      <th>2</th>\n",
       "      <td>21.6</td>\n",
       "      <td>24.5</td>\n",
       "      <td>6.6</td>\n",
       "      <td>2.4</td>\n",
       "      <td>0.1</td>\n",
       "      <td>41.0</td>\n",
       "      <td>17.0</td>\n",
       "      <td>2.0</td>\n",
       "      <td>88.0</td>\n",
       "      <td>86.0</td>\n",
       "      <td>...</td>\n",
       "      <td>0.0</td>\n",
       "      <td>0.0</td>\n",
       "      <td>0.0</td>\n",
       "      <td>0.0</td>\n",
       "      <td>0.0</td>\n",
       "      <td>0.0</td>\n",
       "      <td>0.0</td>\n",
       "      <td>0.0</td>\n",
       "      <td>0.0</td>\n",
       "      <td>0.0</td>\n",
       "    </tr>\n",
       "    <tr>\n",
       "      <th>3</th>\n",
       "      <td>20.2</td>\n",
       "      <td>22.8</td>\n",
       "      <td>18.8</td>\n",
       "      <td>2.2</td>\n",
       "      <td>0.0</td>\n",
       "      <td>41.0</td>\n",
       "      <td>22.0</td>\n",
       "      <td>20.0</td>\n",
       "      <td>83.0</td>\n",
       "      <td>90.0</td>\n",
       "      <td>...</td>\n",
       "      <td>0.0</td>\n",
       "      <td>0.0</td>\n",
       "      <td>0.0</td>\n",
       "      <td>0.0</td>\n",
       "      <td>0.0</td>\n",
       "      <td>0.0</td>\n",
       "      <td>0.0</td>\n",
       "      <td>0.0</td>\n",
       "      <td>0.0</td>\n",
       "      <td>0.0</td>\n",
       "    </tr>\n",
       "    <tr>\n",
       "      <th>4</th>\n",
       "      <td>19.7</td>\n",
       "      <td>25.7</td>\n",
       "      <td>77.4</td>\n",
       "      <td>4.8</td>\n",
       "      <td>0.0</td>\n",
       "      <td>41.0</td>\n",
       "      <td>11.0</td>\n",
       "      <td>6.0</td>\n",
       "      <td>88.0</td>\n",
       "      <td>74.0</td>\n",
       "      <td>...</td>\n",
       "      <td>0.0</td>\n",
       "      <td>0.0</td>\n",
       "      <td>0.0</td>\n",
       "      <td>0.0</td>\n",
       "      <td>0.0</td>\n",
       "      <td>0.0</td>\n",
       "      <td>0.0</td>\n",
       "      <td>1.0</td>\n",
       "      <td>0.0</td>\n",
       "      <td>0.0</td>\n",
       "    </tr>\n",
       "    <tr>\n",
       "      <th>...</th>\n",
       "      <td>...</td>\n",
       "      <td>...</td>\n",
       "      <td>...</td>\n",
       "      <td>...</td>\n",
       "      <td>...</td>\n",
       "      <td>...</td>\n",
       "      <td>...</td>\n",
       "      <td>...</td>\n",
       "      <td>...</td>\n",
       "      <td>...</td>\n",
       "      <td>...</td>\n",
       "      <td>...</td>\n",
       "      <td>...</td>\n",
       "      <td>...</td>\n",
       "      <td>...</td>\n",
       "      <td>...</td>\n",
       "      <td>...</td>\n",
       "      <td>...</td>\n",
       "      <td>...</td>\n",
       "      <td>...</td>\n",
       "      <td>...</td>\n",
       "    </tr>\n",
       "    <tr>\n",
       "      <th>3266</th>\n",
       "      <td>8.6</td>\n",
       "      <td>19.6</td>\n",
       "      <td>0.0</td>\n",
       "      <td>2.0</td>\n",
       "      <td>7.8</td>\n",
       "      <td>37.0</td>\n",
       "      <td>22.0</td>\n",
       "      <td>20.0</td>\n",
       "      <td>73.0</td>\n",
       "      <td>52.0</td>\n",
       "      <td>...</td>\n",
       "      <td>0.0</td>\n",
       "      <td>0.0</td>\n",
       "      <td>0.0</td>\n",
       "      <td>0.0</td>\n",
       "      <td>1.0</td>\n",
       "      <td>0.0</td>\n",
       "      <td>0.0</td>\n",
       "      <td>0.0</td>\n",
       "      <td>0.0</td>\n",
       "      <td>0.0</td>\n",
       "    </tr>\n",
       "    <tr>\n",
       "      <th>3267</th>\n",
       "      <td>9.3</td>\n",
       "      <td>19.2</td>\n",
       "      <td>0.0</td>\n",
       "      <td>2.0</td>\n",
       "      <td>9.2</td>\n",
       "      <td>30.0</td>\n",
       "      <td>20.0</td>\n",
       "      <td>7.0</td>\n",
       "      <td>78.0</td>\n",
       "      <td>53.0</td>\n",
       "      <td>...</td>\n",
       "      <td>0.0</td>\n",
       "      <td>0.0</td>\n",
       "      <td>0.0</td>\n",
       "      <td>0.0</td>\n",
       "      <td>0.0</td>\n",
       "      <td>0.0</td>\n",
       "      <td>0.0</td>\n",
       "      <td>0.0</td>\n",
       "      <td>0.0</td>\n",
       "      <td>0.0</td>\n",
       "    </tr>\n",
       "    <tr>\n",
       "      <th>3268</th>\n",
       "      <td>9.4</td>\n",
       "      <td>17.7</td>\n",
       "      <td>0.0</td>\n",
       "      <td>2.4</td>\n",
       "      <td>2.7</td>\n",
       "      <td>24.0</td>\n",
       "      <td>15.0</td>\n",
       "      <td>13.0</td>\n",
       "      <td>85.0</td>\n",
       "      <td>56.0</td>\n",
       "      <td>...</td>\n",
       "      <td>0.0</td>\n",
       "      <td>0.0</td>\n",
       "      <td>0.0</td>\n",
       "      <td>0.0</td>\n",
       "      <td>0.0</td>\n",
       "      <td>0.0</td>\n",
       "      <td>0.0</td>\n",
       "      <td>0.0</td>\n",
       "      <td>0.0</td>\n",
       "      <td>0.0</td>\n",
       "    </tr>\n",
       "    <tr>\n",
       "      <th>3269</th>\n",
       "      <td>10.1</td>\n",
       "      <td>19.3</td>\n",
       "      <td>0.0</td>\n",
       "      <td>1.4</td>\n",
       "      <td>9.3</td>\n",
       "      <td>43.0</td>\n",
       "      <td>17.0</td>\n",
       "      <td>19.0</td>\n",
       "      <td>56.0</td>\n",
       "      <td>35.0</td>\n",
       "      <td>...</td>\n",
       "      <td>0.0</td>\n",
       "      <td>0.0</td>\n",
       "      <td>0.0</td>\n",
       "      <td>0.0</td>\n",
       "      <td>0.0</td>\n",
       "      <td>0.0</td>\n",
       "      <td>0.0</td>\n",
       "      <td>1.0</td>\n",
       "      <td>0.0</td>\n",
       "      <td>0.0</td>\n",
       "    </tr>\n",
       "    <tr>\n",
       "      <th>3270</th>\n",
       "      <td>7.6</td>\n",
       "      <td>19.3</td>\n",
       "      <td>0.0</td>\n",
       "      <td>3.4</td>\n",
       "      <td>9.4</td>\n",
       "      <td>35.0</td>\n",
       "      <td>13.0</td>\n",
       "      <td>13.0</td>\n",
       "      <td>73.0</td>\n",
       "      <td>32.0</td>\n",
       "      <td>...</td>\n",
       "      <td>0.0</td>\n",
       "      <td>0.0</td>\n",
       "      <td>0.0</td>\n",
       "      <td>0.0</td>\n",
       "      <td>0.0</td>\n",
       "      <td>0.0</td>\n",
       "      <td>0.0</td>\n",
       "      <td>1.0</td>\n",
       "      <td>0.0</td>\n",
       "      <td>0.0</td>\n",
       "    </tr>\n",
       "  </tbody>\n",
       "</table>\n",
       "<p>3271 rows × 66 columns</p>\n",
       "</div>"
      ],
      "text/plain": [
       "      MinTemp  MaxTemp  Rainfall  Evaporation  Sunshine  WindGustSpeed  \\\n",
       "0        19.5     22.4      15.6          6.2       0.0           41.0   \n",
       "1        19.5     25.6       6.0          3.4       2.7           41.0   \n",
       "2        21.6     24.5       6.6          2.4       0.1           41.0   \n",
       "3        20.2     22.8      18.8          2.2       0.0           41.0   \n",
       "4        19.7     25.7      77.4          4.8       0.0           41.0   \n",
       "...       ...      ...       ...          ...       ...            ...   \n",
       "3266      8.6     19.6       0.0          2.0       7.8           37.0   \n",
       "3267      9.3     19.2       0.0          2.0       9.2           30.0   \n",
       "3268      9.4     17.7       0.0          2.4       2.7           24.0   \n",
       "3269     10.1     19.3       0.0          1.4       9.3           43.0   \n",
       "3270      7.6     19.3       0.0          3.4       9.4           35.0   \n",
       "\n",
       "      WindSpeed9am  WindSpeed3pm  Humidity9am  Humidity3pm  ...  \\\n",
       "0             17.0          20.0         92.0         84.0  ...   \n",
       "1              9.0          13.0         83.0         73.0  ...   \n",
       "2             17.0           2.0         88.0         86.0  ...   \n",
       "3             22.0          20.0         83.0         90.0  ...   \n",
       "4             11.0           6.0         88.0         74.0  ...   \n",
       "...            ...           ...          ...          ...  ...   \n",
       "3266          22.0          20.0         73.0         52.0  ...   \n",
       "3267          20.0           7.0         78.0         53.0  ...   \n",
       "3268          15.0          13.0         85.0         56.0  ...   \n",
       "3269          17.0          19.0         56.0         35.0  ...   \n",
       "3270          13.0          13.0         73.0         32.0  ...   \n",
       "\n",
       "      WindDir3pm_NNW  WindDir3pm_NW  WindDir3pm_S  WindDir3pm_SE  \\\n",
       "0                0.0            0.0           0.0            0.0   \n",
       "1                0.0            0.0           0.0            0.0   \n",
       "2                0.0            0.0           0.0            0.0   \n",
       "3                0.0            0.0           0.0            0.0   \n",
       "4                0.0            0.0           0.0            0.0   \n",
       "...              ...            ...           ...            ...   \n",
       "3266             0.0            0.0           0.0            0.0   \n",
       "3267             0.0            0.0           0.0            0.0   \n",
       "3268             0.0            0.0           0.0            0.0   \n",
       "3269             0.0            0.0           0.0            0.0   \n",
       "3270             0.0            0.0           0.0            0.0   \n",
       "\n",
       "      WindDir3pm_SSE  WindDir3pm_SSW  WindDir3pm_SW  WindDir3pm_W  \\\n",
       "0                0.0             1.0            0.0           0.0   \n",
       "1                0.0             0.0            0.0           0.0   \n",
       "2                0.0             0.0            0.0           0.0   \n",
       "3                0.0             0.0            0.0           0.0   \n",
       "4                0.0             0.0            0.0           1.0   \n",
       "...              ...             ...            ...           ...   \n",
       "3266             1.0             0.0            0.0           0.0   \n",
       "3267             0.0             0.0            0.0           0.0   \n",
       "3268             0.0             0.0            0.0           0.0   \n",
       "3269             0.0             0.0            0.0           1.0   \n",
       "3270             0.0             0.0            0.0           1.0   \n",
       "\n",
       "      WindDir3pm_WNW  WindDir3pm_WSW  \n",
       "0                0.0             0.0  \n",
       "1                0.0             0.0  \n",
       "2                0.0             0.0  \n",
       "3                0.0             0.0  \n",
       "4                0.0             0.0  \n",
       "...              ...             ...  \n",
       "3266             0.0             0.0  \n",
       "3267             0.0             0.0  \n",
       "3268             0.0             0.0  \n",
       "3269             0.0             0.0  \n",
       "3270             0.0             0.0  \n",
       "\n",
       "[3271 rows x 66 columns]"
      ]
     },
     "execution_count": 23,
     "metadata": {},
     "output_type": "execute_result"
    }
   ],
   "source": [
    "features"
   ]
  },
  {
   "cell_type": "markdown",
   "metadata": {},
   "source": [
    "### Linear Regression\n"
   ]
  },
  {
   "cell_type": "markdown",
   "metadata": {},
   "source": [
    "#### Q1) Use the `train_test_split` function to split the `features` and `Y` dataframes with a `test_size` of `0.2` and the `random_state` set to `10`.\n"
   ]
  },
  {
   "cell_type": "code",
   "execution_count": 9,
   "metadata": {},
   "outputs": [],
   "source": [
    "#Enter Your Code, Execute and take the Screenshot\n"
   ]
  },
  {
   "cell_type": "code",
   "execution_count": 10,
   "metadata": {},
   "outputs": [],
   "source": [
    "x_train, x_test, y_train, y_test = train_test_split(features, Y, test_size=0.2, random_state=10)"
   ]
  },
  {
   "cell_type": "code",
   "execution_count": 11,
   "metadata": {
    "scrolled": false
   },
   "outputs": [
    {
     "data": {
      "text/html": [
       "<div>\n",
       "<style scoped>\n",
       "    .dataframe tbody tr th:only-of-type {\n",
       "        vertical-align: middle;\n",
       "    }\n",
       "\n",
       "    .dataframe tbody tr th {\n",
       "        vertical-align: top;\n",
       "    }\n",
       "\n",
       "    .dataframe thead th {\n",
       "        text-align: right;\n",
       "    }\n",
       "</style>\n",
       "<table border=\"1\" class=\"dataframe\">\n",
       "  <thead>\n",
       "    <tr style=\"text-align: right;\">\n",
       "      <th></th>\n",
       "      <th>MinTemp</th>\n",
       "      <th>MaxTemp</th>\n",
       "      <th>Rainfall</th>\n",
       "      <th>Evaporation</th>\n",
       "      <th>Sunshine</th>\n",
       "      <th>WindGustSpeed</th>\n",
       "      <th>WindSpeed9am</th>\n",
       "      <th>WindSpeed3pm</th>\n",
       "      <th>Humidity9am</th>\n",
       "      <th>Humidity3pm</th>\n",
       "      <th>...</th>\n",
       "      <th>WindDir3pm_NNW</th>\n",
       "      <th>WindDir3pm_NW</th>\n",
       "      <th>WindDir3pm_S</th>\n",
       "      <th>WindDir3pm_SE</th>\n",
       "      <th>WindDir3pm_SSE</th>\n",
       "      <th>WindDir3pm_SSW</th>\n",
       "      <th>WindDir3pm_SW</th>\n",
       "      <th>WindDir3pm_W</th>\n",
       "      <th>WindDir3pm_WNW</th>\n",
       "      <th>WindDir3pm_WSW</th>\n",
       "    </tr>\n",
       "  </thead>\n",
       "  <tbody>\n",
       "    <tr>\n",
       "      <th>3188</th>\n",
       "      <td>-0.016520</td>\n",
       "      <td>-0.223515</td>\n",
       "      <td>3.056249</td>\n",
       "      <td>-0.352860</td>\n",
       "      <td>-1.499179</td>\n",
       "      <td>0.812803</td>\n",
       "      <td>0.546863</td>\n",
       "      <td>0.639061</td>\n",
       "      <td>1.451394</td>\n",
       "      <td>-0.346851</td>\n",
       "      <td>...</td>\n",
       "      <td>-0.107708</td>\n",
       "      <td>-0.136717</td>\n",
       "      <td>-0.286157</td>\n",
       "      <td>-0.261968</td>\n",
       "      <td>-0.289272</td>\n",
       "      <td>-0.218305</td>\n",
       "      <td>-0.114752</td>\n",
       "      <td>-0.257778</td>\n",
       "      <td>-0.243124</td>\n",
       "      <td>-0.184369</td>\n",
       "    </tr>\n",
       "    <tr>\n",
       "      <th>2582</th>\n",
       "      <td>-1.484109</td>\n",
       "      <td>-1.029742</td>\n",
       "      <td>-0.321456</td>\n",
       "      <td>-0.134818</td>\n",
       "      <td>0.339206</td>\n",
       "      <td>-0.036582</td>\n",
       "      <td>0.688956</td>\n",
       "      <td>-1.101544</td>\n",
       "      <td>0.126651</td>\n",
       "      <td>-0.284686</td>\n",
       "      <td>...</td>\n",
       "      <td>-0.107708</td>\n",
       "      <td>-0.136717</td>\n",
       "      <td>-0.286157</td>\n",
       "      <td>-0.261968</td>\n",
       "      <td>-0.289272</td>\n",
       "      <td>-0.218305</td>\n",
       "      <td>-0.114752</td>\n",
       "      <td>-0.257778</td>\n",
       "      <td>-0.243124</td>\n",
       "      <td>-0.184369</td>\n",
       "    </tr>\n",
       "    <tr>\n",
       "      <th>815</th>\n",
       "      <td>0.114905</td>\n",
       "      <td>-0.425072</td>\n",
       "      <td>-0.321456</td>\n",
       "      <td>-0.498222</td>\n",
       "      <td>-0.343623</td>\n",
       "      <td>-0.036582</td>\n",
       "      <td>-1.158255</td>\n",
       "      <td>1.174632</td>\n",
       "      <td>-0.601958</td>\n",
       "      <td>-0.844171</td>\n",
       "      <td>...</td>\n",
       "      <td>-0.107708</td>\n",
       "      <td>-0.136717</td>\n",
       "      <td>-0.286157</td>\n",
       "      <td>-0.261968</td>\n",
       "      <td>-0.289272</td>\n",
       "      <td>-0.218305</td>\n",
       "      <td>-0.114752</td>\n",
       "      <td>3.879314</td>\n",
       "      <td>-0.243124</td>\n",
       "      <td>-0.184369</td>\n",
       "    </tr>\n",
       "    <tr>\n",
       "      <th>1024</th>\n",
       "      <td>1.122503</td>\n",
       "      <td>0.784268</td>\n",
       "      <td>-0.321456</td>\n",
       "      <td>1.246117</td>\n",
       "      <td>1.547287</td>\n",
       "      <td>-1.074718</td>\n",
       "      <td>-1.158255</td>\n",
       "      <td>0.103490</td>\n",
       "      <td>-0.270772</td>\n",
       "      <td>0.523460</td>\n",
       "      <td>...</td>\n",
       "      <td>-0.107708</td>\n",
       "      <td>-0.136717</td>\n",
       "      <td>-0.286157</td>\n",
       "      <td>-0.261968</td>\n",
       "      <td>-0.289272</td>\n",
       "      <td>-0.218305</td>\n",
       "      <td>-0.114752</td>\n",
       "      <td>-0.257778</td>\n",
       "      <td>-0.243124</td>\n",
       "      <td>-0.184369</td>\n",
       "    </tr>\n",
       "    <tr>\n",
       "      <th>1320</th>\n",
       "      <td>-0.016520</td>\n",
       "      <td>-1.052137</td>\n",
       "      <td>3.555909</td>\n",
       "      <td>0.810032</td>\n",
       "      <td>-1.866855</td>\n",
       "      <td>0.624051</td>\n",
       "      <td>0.546863</td>\n",
       "      <td>0.639061</td>\n",
       "      <td>1.650106</td>\n",
       "      <td>1.953257</td>\n",
       "      <td>...</td>\n",
       "      <td>-0.107708</td>\n",
       "      <td>-0.136717</td>\n",
       "      <td>-0.286157</td>\n",
       "      <td>-0.261968</td>\n",
       "      <td>3.456949</td>\n",
       "      <td>-0.218305</td>\n",
       "      <td>-0.114752</td>\n",
       "      <td>-0.257778</td>\n",
       "      <td>-0.243124</td>\n",
       "      <td>-0.184369</td>\n",
       "    </tr>\n",
       "    <tr>\n",
       "      <th>...</th>\n",
       "      <td>...</td>\n",
       "      <td>...</td>\n",
       "      <td>...</td>\n",
       "      <td>...</td>\n",
       "      <td>...</td>\n",
       "      <td>...</td>\n",
       "      <td>...</td>\n",
       "      <td>...</td>\n",
       "      <td>...</td>\n",
       "      <td>...</td>\n",
       "      <td>...</td>\n",
       "      <td>...</td>\n",
       "      <td>...</td>\n",
       "      <td>...</td>\n",
       "      <td>...</td>\n",
       "      <td>...</td>\n",
       "      <td>...</td>\n",
       "      <td>...</td>\n",
       "      <td>...</td>\n",
       "      <td>...</td>\n",
       "      <td>...</td>\n",
       "    </tr>\n",
       "    <tr>\n",
       "      <th>3195</th>\n",
       "      <td>-0.695554</td>\n",
       "      <td>-1.141717</td>\n",
       "      <td>0.557946</td>\n",
       "      <td>0.955394</td>\n",
       "      <td>-0.291098</td>\n",
       "      <td>1.190307</td>\n",
       "      <td>1.541516</td>\n",
       "      <td>0.906846</td>\n",
       "      <td>-1.131856</td>\n",
       "      <td>0.088305</td>\n",
       "      <td>...</td>\n",
       "      <td>-0.107708</td>\n",
       "      <td>-0.136717</td>\n",
       "      <td>-0.286157</td>\n",
       "      <td>-0.261968</td>\n",
       "      <td>-0.289272</td>\n",
       "      <td>-0.218305</td>\n",
       "      <td>-0.114752</td>\n",
       "      <td>3.879314</td>\n",
       "      <td>-0.243124</td>\n",
       "      <td>-0.184369</td>\n",
       "    </tr>\n",
       "    <tr>\n",
       "      <th>1344</th>\n",
       "      <td>0.465374</td>\n",
       "      <td>-0.290701</td>\n",
       "      <td>-0.321456</td>\n",
       "      <td>0.083224</td>\n",
       "      <td>0.916983</td>\n",
       "      <td>-1.452222</td>\n",
       "      <td>-0.021510</td>\n",
       "      <td>0.103490</td>\n",
       "      <td>-1.198093</td>\n",
       "      <td>-0.471181</td>\n",
       "      <td>...</td>\n",
       "      <td>-0.107708</td>\n",
       "      <td>-0.136717</td>\n",
       "      <td>-0.286157</td>\n",
       "      <td>-0.261968</td>\n",
       "      <td>-0.289272</td>\n",
       "      <td>-0.218305</td>\n",
       "      <td>-0.114752</td>\n",
       "      <td>-0.257778</td>\n",
       "      <td>-0.243124</td>\n",
       "      <td>-0.184369</td>\n",
       "    </tr>\n",
       "    <tr>\n",
       "      <th>527</th>\n",
       "      <td>-1.790769</td>\n",
       "      <td>-1.276088</td>\n",
       "      <td>-0.321456</td>\n",
       "      <td>-0.934306</td>\n",
       "      <td>-0.080997</td>\n",
       "      <td>-0.036582</td>\n",
       "      <td>0.262677</td>\n",
       "      <td>-1.637114</td>\n",
       "      <td>0.722785</td>\n",
       "      <td>-0.782006</td>\n",
       "      <td>...</td>\n",
       "      <td>-0.107708</td>\n",
       "      <td>7.314369</td>\n",
       "      <td>-0.286157</td>\n",
       "      <td>-0.261968</td>\n",
       "      <td>-0.289272</td>\n",
       "      <td>-0.218305</td>\n",
       "      <td>-0.114752</td>\n",
       "      <td>-0.257778</td>\n",
       "      <td>-0.243124</td>\n",
       "      <td>-0.184369</td>\n",
       "    </tr>\n",
       "    <tr>\n",
       "      <th>3197</th>\n",
       "      <td>0.027288</td>\n",
       "      <td>-0.066749</td>\n",
       "      <td>0.617906</td>\n",
       "      <td>-0.352860</td>\n",
       "      <td>-1.157764</td>\n",
       "      <td>0.152171</td>\n",
       "      <td>0.546863</td>\n",
       "      <td>-0.298188</td>\n",
       "      <td>0.192888</td>\n",
       "      <td>1.269441</td>\n",
       "      <td>...</td>\n",
       "      <td>-0.107708</td>\n",
       "      <td>-0.136717</td>\n",
       "      <td>-0.286157</td>\n",
       "      <td>-0.261968</td>\n",
       "      <td>-0.289272</td>\n",
       "      <td>4.580742</td>\n",
       "      <td>-0.114752</td>\n",
       "      <td>-0.257778</td>\n",
       "      <td>-0.243124</td>\n",
       "      <td>-0.184369</td>\n",
       "    </tr>\n",
       "    <tr>\n",
       "      <th>1289</th>\n",
       "      <td>0.224427</td>\n",
       "      <td>1.590494</td>\n",
       "      <td>-0.301469</td>\n",
       "      <td>0.882713</td>\n",
       "      <td>1.310923</td>\n",
       "      <td>-0.791590</td>\n",
       "      <td>-0.589882</td>\n",
       "      <td>-1.369329</td>\n",
       "      <td>-0.601958</td>\n",
       "      <td>-0.968502</td>\n",
       "      <td>...</td>\n",
       "      <td>-0.107708</td>\n",
       "      <td>-0.136717</td>\n",
       "      <td>-0.286157</td>\n",
       "      <td>-0.261968</td>\n",
       "      <td>-0.289272</td>\n",
       "      <td>-0.218305</td>\n",
       "      <td>-0.114752</td>\n",
       "      <td>-0.257778</td>\n",
       "      <td>-0.243124</td>\n",
       "      <td>-0.184369</td>\n",
       "    </tr>\n",
       "  </tbody>\n",
       "</table>\n",
       "<p>2616 rows × 66 columns</p>\n",
       "</div>"
      ],
      "text/plain": [
       "       MinTemp   MaxTemp  Rainfall  Evaporation  Sunshine  WindGustSpeed  \\\n",
       "3188 -0.016520 -0.223515  3.056249    -0.352860 -1.499179       0.812803   \n",
       "2582 -1.484109 -1.029742 -0.321456    -0.134818  0.339206      -0.036582   \n",
       "815   0.114905 -0.425072 -0.321456    -0.498222 -0.343623      -0.036582   \n",
       "1024  1.122503  0.784268 -0.321456     1.246117  1.547287      -1.074718   \n",
       "1320 -0.016520 -1.052137  3.555909     0.810032 -1.866855       0.624051   \n",
       "...        ...       ...       ...          ...       ...            ...   \n",
       "3195 -0.695554 -1.141717  0.557946     0.955394 -0.291098       1.190307   \n",
       "1344  0.465374 -0.290701 -0.321456     0.083224  0.916983      -1.452222   \n",
       "527  -1.790769 -1.276088 -0.321456    -0.934306 -0.080997      -0.036582   \n",
       "3197  0.027288 -0.066749  0.617906    -0.352860 -1.157764       0.152171   \n",
       "1289  0.224427  1.590494 -0.301469     0.882713  1.310923      -0.791590   \n",
       "\n",
       "      WindSpeed9am  WindSpeed3pm  Humidity9am  Humidity3pm  ...  \\\n",
       "3188      0.546863      0.639061     1.451394    -0.346851  ...   \n",
       "2582      0.688956     -1.101544     0.126651    -0.284686  ...   \n",
       "815      -1.158255      1.174632    -0.601958    -0.844171  ...   \n",
       "1024     -1.158255      0.103490    -0.270772     0.523460  ...   \n",
       "1320      0.546863      0.639061     1.650106     1.953257  ...   \n",
       "...            ...           ...          ...          ...  ...   \n",
       "3195      1.541516      0.906846    -1.131856     0.088305  ...   \n",
       "1344     -0.021510      0.103490    -1.198093    -0.471181  ...   \n",
       "527       0.262677     -1.637114     0.722785    -0.782006  ...   \n",
       "3197      0.546863     -0.298188     0.192888     1.269441  ...   \n",
       "1289     -0.589882     -1.369329    -0.601958    -0.968502  ...   \n",
       "\n",
       "      WindDir3pm_NNW  WindDir3pm_NW  WindDir3pm_S  WindDir3pm_SE  \\\n",
       "3188       -0.107708      -0.136717     -0.286157      -0.261968   \n",
       "2582       -0.107708      -0.136717     -0.286157      -0.261968   \n",
       "815        -0.107708      -0.136717     -0.286157      -0.261968   \n",
       "1024       -0.107708      -0.136717     -0.286157      -0.261968   \n",
       "1320       -0.107708      -0.136717     -0.286157      -0.261968   \n",
       "...              ...            ...           ...            ...   \n",
       "3195       -0.107708      -0.136717     -0.286157      -0.261968   \n",
       "1344       -0.107708      -0.136717     -0.286157      -0.261968   \n",
       "527        -0.107708       7.314369     -0.286157      -0.261968   \n",
       "3197       -0.107708      -0.136717     -0.286157      -0.261968   \n",
       "1289       -0.107708      -0.136717     -0.286157      -0.261968   \n",
       "\n",
       "      WindDir3pm_SSE  WindDir3pm_SSW  WindDir3pm_SW  WindDir3pm_W  \\\n",
       "3188       -0.289272       -0.218305      -0.114752     -0.257778   \n",
       "2582       -0.289272       -0.218305      -0.114752     -0.257778   \n",
       "815        -0.289272       -0.218305      -0.114752      3.879314   \n",
       "1024       -0.289272       -0.218305      -0.114752     -0.257778   \n",
       "1320        3.456949       -0.218305      -0.114752     -0.257778   \n",
       "...              ...             ...            ...           ...   \n",
       "3195       -0.289272       -0.218305      -0.114752      3.879314   \n",
       "1344       -0.289272       -0.218305      -0.114752     -0.257778   \n",
       "527        -0.289272       -0.218305      -0.114752     -0.257778   \n",
       "3197       -0.289272        4.580742      -0.114752     -0.257778   \n",
       "1289       -0.289272       -0.218305      -0.114752     -0.257778   \n",
       "\n",
       "      WindDir3pm_WNW  WindDir3pm_WSW  \n",
       "3188       -0.243124       -0.184369  \n",
       "2582       -0.243124       -0.184369  \n",
       "815        -0.243124       -0.184369  \n",
       "1024       -0.243124       -0.184369  \n",
       "1320       -0.243124       -0.184369  \n",
       "...              ...             ...  \n",
       "3195       -0.243124       -0.184369  \n",
       "1344       -0.243124       -0.184369  \n",
       "527        -0.243124       -0.184369  \n",
       "3197       -0.243124       -0.184369  \n",
       "1289       -0.243124       -0.184369  \n",
       "\n",
       "[2616 rows x 66 columns]"
      ]
     },
     "execution_count": 11,
     "metadata": {},
     "output_type": "execute_result"
    }
   ],
   "source": [
    "from sklearn.preprocessing import StandardScaler\n",
    "scale = StandardScaler()\n",
    "scale.fit_transform(x_train)\n",
    "x_train_scale = pd.DataFrame(scale.fit_transform(x_train), columns=x_train.columns, index = x_train.index)\n",
    "x_train_scale"
   ]
  },
  {
   "cell_type": "code",
   "execution_count": 12,
   "metadata": {
    "scrolled": false
   },
   "outputs": [
    {
     "data": {
      "text/html": [
       "<div>\n",
       "<style scoped>\n",
       "    .dataframe tbody tr th:only-of-type {\n",
       "        vertical-align: middle;\n",
       "    }\n",
       "\n",
       "    .dataframe tbody tr th {\n",
       "        vertical-align: top;\n",
       "    }\n",
       "\n",
       "    .dataframe thead th {\n",
       "        text-align: right;\n",
       "    }\n",
       "</style>\n",
       "<table border=\"1\" class=\"dataframe\">\n",
       "  <thead>\n",
       "    <tr style=\"text-align: right;\">\n",
       "      <th></th>\n",
       "      <th>MinTemp</th>\n",
       "      <th>MaxTemp</th>\n",
       "      <th>Rainfall</th>\n",
       "      <th>Evaporation</th>\n",
       "      <th>Sunshine</th>\n",
       "      <th>WindGustSpeed</th>\n",
       "      <th>WindSpeed9am</th>\n",
       "      <th>WindSpeed3pm</th>\n",
       "      <th>Humidity9am</th>\n",
       "      <th>Humidity3pm</th>\n",
       "      <th>...</th>\n",
       "      <th>WindDir3pm_NNW</th>\n",
       "      <th>WindDir3pm_NW</th>\n",
       "      <th>WindDir3pm_S</th>\n",
       "      <th>WindDir3pm_SE</th>\n",
       "      <th>WindDir3pm_SSE</th>\n",
       "      <th>WindDir3pm_SSW</th>\n",
       "      <th>WindDir3pm_SW</th>\n",
       "      <th>WindDir3pm_W</th>\n",
       "      <th>WindDir3pm_WNW</th>\n",
       "      <th>WindDir3pm_WSW</th>\n",
       "    </tr>\n",
       "  </thead>\n",
       "  <tbody>\n",
       "    <tr>\n",
       "      <th>3066</th>\n",
       "      <td>0.837747</td>\n",
       "      <td>2.844624</td>\n",
       "      <td>-0.301469</td>\n",
       "      <td>0.301267</td>\n",
       "      <td>0.680620</td>\n",
       "      <td>1.473435</td>\n",
       "      <td>-0.305696</td>\n",
       "      <td>-0.298188</td>\n",
       "      <td>-1.595516</td>\n",
       "      <td>-1.900978</td>\n",
       "      <td>...</td>\n",
       "      <td>-0.107708</td>\n",
       "      <td>-0.136717</td>\n",
       "      <td>-0.286157</td>\n",
       "      <td>-0.261968</td>\n",
       "      <td>-0.289272</td>\n",
       "      <td>-0.218305</td>\n",
       "      <td>-0.114752</td>\n",
       "      <td>-0.257778</td>\n",
       "      <td>-0.243124</td>\n",
       "      <td>-0.184369</td>\n",
       "    </tr>\n",
       "    <tr>\n",
       "      <th>2456</th>\n",
       "      <td>0.027288</td>\n",
       "      <td>0.403550</td>\n",
       "      <td>1.917023</td>\n",
       "      <td>-0.643583</td>\n",
       "      <td>0.654357</td>\n",
       "      <td>-0.414086</td>\n",
       "      <td>0.546863</td>\n",
       "      <td>0.103490</td>\n",
       "      <td>0.259125</td>\n",
       "      <td>-0.098190</td>\n",
       "      <td>...</td>\n",
       "      <td>-0.107708</td>\n",
       "      <td>-0.136717</td>\n",
       "      <td>-0.286157</td>\n",
       "      <td>-0.261968</td>\n",
       "      <td>3.456949</td>\n",
       "      <td>-0.218305</td>\n",
       "      <td>-0.114752</td>\n",
       "      <td>-0.257778</td>\n",
       "      <td>-0.243124</td>\n",
       "      <td>-0.184369</td>\n",
       "    </tr>\n",
       "    <tr>\n",
       "      <th>1629</th>\n",
       "      <td>-1.396491</td>\n",
       "      <td>-1.567226</td>\n",
       "      <td>0.018313</td>\n",
       "      <td>-1.152348</td>\n",
       "      <td>-0.763825</td>\n",
       "      <td>3.077828</td>\n",
       "      <td>2.820354</td>\n",
       "      <td>0.371276</td>\n",
       "      <td>1.053971</td>\n",
       "      <td>2.015422</td>\n",
       "      <td>...</td>\n",
       "      <td>-0.107708</td>\n",
       "      <td>-0.136717</td>\n",
       "      <td>-0.286157</td>\n",
       "      <td>-0.261968</td>\n",
       "      <td>-0.289272</td>\n",
       "      <td>4.580742</td>\n",
       "      <td>-0.114752</td>\n",
       "      <td>-0.257778</td>\n",
       "      <td>-0.243124</td>\n",
       "      <td>-0.184369</td>\n",
       "    </tr>\n",
       "    <tr>\n",
       "      <th>838</th>\n",
       "      <td>-0.695554</td>\n",
       "      <td>-0.693814</td>\n",
       "      <td>-0.161565</td>\n",
       "      <td>-1.370391</td>\n",
       "      <td>-0.685037</td>\n",
       "      <td>-0.036582</td>\n",
       "      <td>-0.021510</td>\n",
       "      <td>-1.637114</td>\n",
       "      <td>1.583869</td>\n",
       "      <td>-0.098190</td>\n",
       "      <td>...</td>\n",
       "      <td>-0.107708</td>\n",
       "      <td>-0.136717</td>\n",
       "      <td>-0.286157</td>\n",
       "      <td>-0.261968</td>\n",
       "      <td>-0.289272</td>\n",
       "      <td>-0.218305</td>\n",
       "      <td>-0.114752</td>\n",
       "      <td>-0.257778</td>\n",
       "      <td>-0.243124</td>\n",
       "      <td>-0.184369</td>\n",
       "    </tr>\n",
       "    <tr>\n",
       "      <th>2506</th>\n",
       "      <td>-1.527917</td>\n",
       "      <td>-0.828185</td>\n",
       "      <td>-0.101605</td>\n",
       "      <td>-0.425541</td>\n",
       "      <td>0.759408</td>\n",
       "      <td>0.435299</td>\n",
       "      <td>1.825702</td>\n",
       "      <td>0.103490</td>\n",
       "      <td>-1.264330</td>\n",
       "      <td>-1.279327</td>\n",
       "      <td>...</td>\n",
       "      <td>-0.107708</td>\n",
       "      <td>-0.136717</td>\n",
       "      <td>-0.286157</td>\n",
       "      <td>-0.261968</td>\n",
       "      <td>-0.289272</td>\n",
       "      <td>-0.218305</td>\n",
       "      <td>-0.114752</td>\n",
       "      <td>3.879314</td>\n",
       "      <td>-0.243124</td>\n",
       "      <td>-0.184369</td>\n",
       "    </tr>\n",
       "    <tr>\n",
       "      <th>...</th>\n",
       "      <td>...</td>\n",
       "      <td>...</td>\n",
       "      <td>...</td>\n",
       "      <td>...</td>\n",
       "      <td>...</td>\n",
       "      <td>...</td>\n",
       "      <td>...</td>\n",
       "      <td>...</td>\n",
       "      <td>...</td>\n",
       "      <td>...</td>\n",
       "      <td>...</td>\n",
       "      <td>...</td>\n",
       "      <td>...</td>\n",
       "      <td>...</td>\n",
       "      <td>...</td>\n",
       "      <td>...</td>\n",
       "      <td>...</td>\n",
       "      <td>...</td>\n",
       "      <td>...</td>\n",
       "      <td>...</td>\n",
       "      <td>...</td>\n",
       "    </tr>\n",
       "    <tr>\n",
       "      <th>2632</th>\n",
       "      <td>-0.586032</td>\n",
       "      <td>-0.693814</td>\n",
       "      <td>-0.321456</td>\n",
       "      <td>-0.352860</td>\n",
       "      <td>0.260418</td>\n",
       "      <td>0.152171</td>\n",
       "      <td>-0.874069</td>\n",
       "      <td>1.174632</td>\n",
       "      <td>-0.999381</td>\n",
       "      <td>0.150470</td>\n",
       "      <td>...</td>\n",
       "      <td>-0.107708</td>\n",
       "      <td>-0.136717</td>\n",
       "      <td>-0.286157</td>\n",
       "      <td>3.817254</td>\n",
       "      <td>-0.289272</td>\n",
       "      <td>-0.218305</td>\n",
       "      <td>-0.114752</td>\n",
       "      <td>-0.257778</td>\n",
       "      <td>-0.243124</td>\n",
       "      <td>-0.184369</td>\n",
       "    </tr>\n",
       "    <tr>\n",
       "      <th>1725</th>\n",
       "      <td>1.144408</td>\n",
       "      <td>1.276962</td>\n",
       "      <td>-0.301469</td>\n",
       "      <td>-0.352860</td>\n",
       "      <td>0.916983</td>\n",
       "      <td>-0.980342</td>\n",
       "      <td>-0.589882</td>\n",
       "      <td>0.103490</td>\n",
       "      <td>0.126651</td>\n",
       "      <td>0.647791</td>\n",
       "      <td>...</td>\n",
       "      <td>-0.107708</td>\n",
       "      <td>-0.136717</td>\n",
       "      <td>-0.286157</td>\n",
       "      <td>-0.261968</td>\n",
       "      <td>-0.289272</td>\n",
       "      <td>-0.218305</td>\n",
       "      <td>-0.114752</td>\n",
       "      <td>-0.257778</td>\n",
       "      <td>-0.243124</td>\n",
       "      <td>-0.184369</td>\n",
       "    </tr>\n",
       "    <tr>\n",
       "      <th>1158</th>\n",
       "      <td>-0.717458</td>\n",
       "      <td>-1.634411</td>\n",
       "      <td>1.497308</td>\n",
       "      <td>-0.134818</td>\n",
       "      <td>-1.814330</td>\n",
       "      <td>1.473435</td>\n",
       "      <td>1.825702</td>\n",
       "      <td>2.111881</td>\n",
       "      <td>1.385157</td>\n",
       "      <td>0.772121</td>\n",
       "      <td>...</td>\n",
       "      <td>-0.107708</td>\n",
       "      <td>-0.136717</td>\n",
       "      <td>-0.286157</td>\n",
       "      <td>-0.261968</td>\n",
       "      <td>3.456949</td>\n",
       "      <td>-0.218305</td>\n",
       "      <td>-0.114752</td>\n",
       "      <td>-0.257778</td>\n",
       "      <td>-0.243124</td>\n",
       "      <td>-0.184369</td>\n",
       "    </tr>\n",
       "    <tr>\n",
       "      <th>1661</th>\n",
       "      <td>0.443470</td>\n",
       "      <td>0.201993</td>\n",
       "      <td>-0.321456</td>\n",
       "      <td>1.682201</td>\n",
       "      <td>0.706882</td>\n",
       "      <td>1.473435</td>\n",
       "      <td>0.546863</td>\n",
       "      <td>1.174632</td>\n",
       "      <td>-0.535721</td>\n",
       "      <td>-0.222521</td>\n",
       "      <td>...</td>\n",
       "      <td>-0.107708</td>\n",
       "      <td>-0.136717</td>\n",
       "      <td>-0.286157</td>\n",
       "      <td>-0.261968</td>\n",
       "      <td>3.456949</td>\n",
       "      <td>-0.218305</td>\n",
       "      <td>-0.114752</td>\n",
       "      <td>-0.257778</td>\n",
       "      <td>-0.243124</td>\n",
       "      <td>-0.184369</td>\n",
       "    </tr>\n",
       "    <tr>\n",
       "      <th>68</th>\n",
       "      <td>0.158714</td>\n",
       "      <td>-0.178725</td>\n",
       "      <td>1.956996</td>\n",
       "      <td>0.083224</td>\n",
       "      <td>-0.369885</td>\n",
       "      <td>-0.036582</td>\n",
       "      <td>-0.305696</td>\n",
       "      <td>0.103490</td>\n",
       "      <td>1.848817</td>\n",
       "      <td>0.461295</td>\n",
       "      <td>...</td>\n",
       "      <td>-0.107708</td>\n",
       "      <td>-0.136717</td>\n",
       "      <td>-0.286157</td>\n",
       "      <td>-0.261968</td>\n",
       "      <td>-0.289272</td>\n",
       "      <td>-0.218305</td>\n",
       "      <td>-0.114752</td>\n",
       "      <td>-0.257778</td>\n",
       "      <td>-0.243124</td>\n",
       "      <td>-0.184369</td>\n",
       "    </tr>\n",
       "  </tbody>\n",
       "</table>\n",
       "<p>655 rows × 66 columns</p>\n",
       "</div>"
      ],
      "text/plain": [
       "       MinTemp   MaxTemp  Rainfall  Evaporation  Sunshine  WindGustSpeed  \\\n",
       "3066  0.837747  2.844624 -0.301469     0.301267  0.680620       1.473435   \n",
       "2456  0.027288  0.403550  1.917023    -0.643583  0.654357      -0.414086   \n",
       "1629 -1.396491 -1.567226  0.018313    -1.152348 -0.763825       3.077828   \n",
       "838  -0.695554 -0.693814 -0.161565    -1.370391 -0.685037      -0.036582   \n",
       "2506 -1.527917 -0.828185 -0.101605    -0.425541  0.759408       0.435299   \n",
       "...        ...       ...       ...          ...       ...            ...   \n",
       "2632 -0.586032 -0.693814 -0.321456    -0.352860  0.260418       0.152171   \n",
       "1725  1.144408  1.276962 -0.301469    -0.352860  0.916983      -0.980342   \n",
       "1158 -0.717458 -1.634411  1.497308    -0.134818 -1.814330       1.473435   \n",
       "1661  0.443470  0.201993 -0.321456     1.682201  0.706882       1.473435   \n",
       "68    0.158714 -0.178725  1.956996     0.083224 -0.369885      -0.036582   \n",
       "\n",
       "      WindSpeed9am  WindSpeed3pm  Humidity9am  Humidity3pm  ...  \\\n",
       "3066     -0.305696     -0.298188    -1.595516    -1.900978  ...   \n",
       "2456      0.546863      0.103490     0.259125    -0.098190  ...   \n",
       "1629      2.820354      0.371276     1.053971     2.015422  ...   \n",
       "838      -0.021510     -1.637114     1.583869    -0.098190  ...   \n",
       "2506      1.825702      0.103490    -1.264330    -1.279327  ...   \n",
       "...            ...           ...          ...          ...  ...   \n",
       "2632     -0.874069      1.174632    -0.999381     0.150470  ...   \n",
       "1725     -0.589882      0.103490     0.126651     0.647791  ...   \n",
       "1158      1.825702      2.111881     1.385157     0.772121  ...   \n",
       "1661      0.546863      1.174632    -0.535721    -0.222521  ...   \n",
       "68       -0.305696      0.103490     1.848817     0.461295  ...   \n",
       "\n",
       "      WindDir3pm_NNW  WindDir3pm_NW  WindDir3pm_S  WindDir3pm_SE  \\\n",
       "3066       -0.107708      -0.136717     -0.286157      -0.261968   \n",
       "2456       -0.107708      -0.136717     -0.286157      -0.261968   \n",
       "1629       -0.107708      -0.136717     -0.286157      -0.261968   \n",
       "838        -0.107708      -0.136717     -0.286157      -0.261968   \n",
       "2506       -0.107708      -0.136717     -0.286157      -0.261968   \n",
       "...              ...            ...           ...            ...   \n",
       "2632       -0.107708      -0.136717     -0.286157       3.817254   \n",
       "1725       -0.107708      -0.136717     -0.286157      -0.261968   \n",
       "1158       -0.107708      -0.136717     -0.286157      -0.261968   \n",
       "1661       -0.107708      -0.136717     -0.286157      -0.261968   \n",
       "68         -0.107708      -0.136717     -0.286157      -0.261968   \n",
       "\n",
       "      WindDir3pm_SSE  WindDir3pm_SSW  WindDir3pm_SW  WindDir3pm_W  \\\n",
       "3066       -0.289272       -0.218305      -0.114752     -0.257778   \n",
       "2456        3.456949       -0.218305      -0.114752     -0.257778   \n",
       "1629       -0.289272        4.580742      -0.114752     -0.257778   \n",
       "838        -0.289272       -0.218305      -0.114752     -0.257778   \n",
       "2506       -0.289272       -0.218305      -0.114752      3.879314   \n",
       "...              ...             ...            ...           ...   \n",
       "2632       -0.289272       -0.218305      -0.114752     -0.257778   \n",
       "1725       -0.289272       -0.218305      -0.114752     -0.257778   \n",
       "1158        3.456949       -0.218305      -0.114752     -0.257778   \n",
       "1661        3.456949       -0.218305      -0.114752     -0.257778   \n",
       "68         -0.289272       -0.218305      -0.114752     -0.257778   \n",
       "\n",
       "      WindDir3pm_WNW  WindDir3pm_WSW  \n",
       "3066       -0.243124       -0.184369  \n",
       "2456       -0.243124       -0.184369  \n",
       "1629       -0.243124       -0.184369  \n",
       "838        -0.243124       -0.184369  \n",
       "2506       -0.243124       -0.184369  \n",
       "...              ...             ...  \n",
       "2632       -0.243124       -0.184369  \n",
       "1725       -0.243124       -0.184369  \n",
       "1158       -0.243124       -0.184369  \n",
       "1661       -0.243124       -0.184369  \n",
       "68         -0.243124       -0.184369  \n",
       "\n",
       "[655 rows x 66 columns]"
      ]
     },
     "execution_count": 12,
     "metadata": {},
     "output_type": "execute_result"
    }
   ],
   "source": [
    "x_test_scale = pd.DataFrame(scale.transform(x_test), columns=x_test.columns, index = x_test.index)\n",
    "x_test_scale"
   ]
  },
  {
   "cell_type": "markdown",
   "metadata": {},
   "source": [
    "- **In test data we need to perform only transform not fit_transform**"
   ]
  },
  {
   "cell_type": "markdown",
   "metadata": {},
   "source": [
    "### To get the value of mean and variance of each columns"
   ]
  },
  {
   "cell_type": "code",
   "execution_count": 13,
   "metadata": {},
   "outputs": [
    {
     "data": {
      "text/plain": [
       "(array([ 4.56531304,  4.46524722, 10.00679637,  2.75175978,  3.80769155,\n",
       "        10.59590969,  7.03763515,  7.4686686 , 15.09726085, 16.08620059,\n",
       "         7.03332138,  7.00389156,  2.5373612 ,  2.43257659,  4.92563705,\n",
       "         4.26802581,  0.43279178,  0.43279178,  0.18707273,  0.24649888,\n",
       "         0.20070082,  0.09131846,  0.21888955,  0.21249422,  0.12568724,\n",
       "         0.1484751 ,  0.21810273,  0.14088816,  0.25506969,  0.22200234,\n",
       "         0.12568724,  0.4962451 ,  0.15565898,  0.19538389,  0.20585492,\n",
       "         0.15330557,  0.2015708 ,  0.17527457,  0.15448723,  0.16249325,\n",
       "         0.1773037 ,  0.16470124,  0.20585492,  0.1711339 ,  0.18707273,\n",
       "         0.22806978,  0.13557301,  0.4864903 ,  0.35503631,  0.16579289,\n",
       "         0.39438872,  0.31204932,  0.30423428,  0.1328291 ,  0.29918277,\n",
       "         0.1434658 ,  0.10647243,  0.13420861,  0.26449837,  0.24514476,\n",
       "         0.26693565,  0.20837471,  0.11326086,  0.24171569,  0.22955522,\n",
       "         0.17830838]),\n",
       " array([2.08420832e+01, 1.99384327e+01, 1.00135973e+02, 7.57218190e+00,\n",
       "        1.44985149e+01, 1.12273302e+02, 4.95283085e+01, 5.57810106e+01,\n",
       "        2.27927285e+02, 2.58765849e+02, 4.94676096e+01, 4.90544970e+01,\n",
       "        6.43820184e+00, 5.91742885e+00, 2.42619004e+01, 1.82160443e+01,\n",
       "        1.87308722e-01, 1.87308722e-01, 3.49962066e-02, 6.07616970e-02,\n",
       "        4.02808172e-02, 8.33906143e-03, 4.79126336e-02, 4.51537936e-02,\n",
       "        1.57972814e-02, 2.20448557e-02, 4.75688015e-02, 1.98494737e-02,\n",
       "        6.50605484e-02, 4.92850396e-02, 1.57972814e-02, 2.46259200e-01,\n",
       "        2.42297167e-02, 3.81748637e-02, 4.23762497e-02, 2.35025987e-02,\n",
       "        4.06307865e-02, 3.07211736e-02, 2.38663038e-02, 2.64040567e-02,\n",
       "        3.14366016e-02, 2.71264987e-02, 4.23762497e-02, 2.92868106e-02,\n",
       "        3.49962066e-02, 5.20158236e-02, 1.83800407e-02, 2.36672816e-01,\n",
       "        1.26050785e-01, 2.74872813e-02, 1.55542463e-01, 9.73747767e-02,\n",
       "        9.25584968e-02, 1.76435707e-02, 8.95103293e-02, 2.05824367e-02,\n",
       "        1.13363774e-02, 1.80119519e-02, 6.99593889e-02, 6.00959515e-02,\n",
       "        7.12546409e-02, 4.34200205e-02, 1.28280214e-02, 5.84264734e-02,\n",
       "        5.26955971e-02, 3.17938772e-02]))"
      ]
     },
     "execution_count": 13,
     "metadata": {},
     "output_type": "execute_result"
    }
   ],
   "source": [
    "scale.scale_, scale.var_"
   ]
  },
  {
   "cell_type": "markdown",
   "metadata": {},
   "source": [
    "#### Q2) Create and train a Linear Regression model called LinearReg using the training data (`x_train`, `y_train`).\n"
   ]
  },
  {
   "cell_type": "code",
   "execution_count": 14,
   "metadata": {},
   "outputs": [],
   "source": [
    "#Enter Your Code, Execute and take the Screenshot"
   ]
  },
  {
   "cell_type": "code",
   "execution_count": 15,
   "metadata": {},
   "outputs": [
    {
     "data": {
      "text/plain": [
       "LinearRegression()"
      ]
     },
     "execution_count": 15,
     "metadata": {},
     "output_type": "execute_result"
    }
   ],
   "source": [
    "LinearReg = LinearRegression()\n",
    "LinearReg.fit(x_train, y_train)"
   ]
  },
  {
   "cell_type": "markdown",
   "metadata": {},
   "source": [
    "#### Q3) Now use the `predict` method on the testing data (`x_test`) and save it to the array `predictions`.\n"
   ]
  },
  {
   "cell_type": "code",
   "execution_count": 16,
   "metadata": {},
   "outputs": [],
   "source": [
    "#Enter Your Code, Execute and take the Screenshot"
   ]
  },
  {
   "cell_type": "code",
   "execution_count": 21,
   "metadata": {},
   "outputs": [
    {
     "data": {
      "text/plain": [
       "array([ 1.31809235e-01,  2.76157379e-01,  9.78160858e-01,  2.87452698e-01,\n",
       "        1.32392883e-01,  4.60456848e-01,  3.56792450e-01,  8.56433868e-01,\n",
       "        6.75003052e-01,  3.82423401e-02,  4.80270386e-03,  2.81208038e-01,\n",
       "        3.39076996e-01,  7.80906677e-02,  6.26144409e-02,  5.64426422e-01,\n",
       "       -6.15615845e-02,  5.24158478e-01,  1.53717041e-01,  3.59683990e-01,\n",
       "        6.05354309e-02,  9.03549194e-01,  4.67319489e-01,  2.03361511e-01,\n",
       "       -7.10487366e-02,  3.83892059e-01,  5.36094666e-01, -2.28652954e-02,\n",
       "        6.40060425e-01, -9.56687927e-02,  3.78097534e-01,  1.20269775e-01,\n",
       "       -1.81503296e-02,  5.53894043e-02,  5.63556671e-01,  1.06301498e+00,\n",
       "       -6.75582886e-03,  5.14404297e-01, -8.83712769e-02,  6.91871643e-02,\n",
       "        2.44827271e-02,  8.71700287e-01,  2.44621277e-01,  3.94725800e-01,\n",
       "        2.67524719e-01,  4.46777344e-01, -4.75730896e-02,  1.89430237e-01,\n",
       "        7.76588440e-01,  1.57726288e-01,  3.93295288e-03, -5.19943237e-02,\n",
       "        2.07324982e-01, -2.07885742e-01, -7.60803223e-02,  2.49645233e-01,\n",
       "        2.79281616e-01,  6.02752686e-01,  6.29604340e-01,  4.90653992e-01,\n",
       "        5.64422607e-02,  1.05457306e-01,  6.70032501e-01,  7.64839172e-01,\n",
       "        9.84535217e-02, -6.33049011e-02,  4.13810730e-01,  7.25669861e-02,\n",
       "        2.49942780e-01,  2.56446838e-01,  3.77998352e-02, -6.88781738e-02,\n",
       "        3.48217010e-01,  1.73084259e-01,  4.15416718e-01, -7.25402832e-02,\n",
       "        3.41152191e-01,  1.86973572e-01, -1.54850006e-01,  7.99770355e-01,\n",
       "        2.32418060e-01,  2.37358093e-01,  2.56126404e-01,  1.03473663e-01,\n",
       "        6.20735168e-01,  1.29680634e-01,  3.71387482e-01,  4.83074188e-01,\n",
       "        3.08265686e-01,  1.19422913e-01,  5.48248291e-02,  1.12846375e-01,\n",
       "       -1.62467957e-01, -1.58004761e-01,  7.28759766e-02,  7.76416779e-01,\n",
       "        8.43009949e-02,  6.43089294e-01,  1.21784210e-01,  1.78043365e-01,\n",
       "        3.04901123e-01,  1.85516357e-01,  1.13146210e+00,  3.44429016e-01,\n",
       "        8.26831818e-01,  5.38887024e-01,  2.74330139e-01,  6.29383087e-01,\n",
       "       -6.72569275e-02,  9.63562012e-01,  5.61897278e-01,  2.34375000e-02,\n",
       "        1.05617523e-01,  9.38644409e-02,  8.15658569e-02,  2.92091370e-01,\n",
       "        5.55057526e-01,  6.69288635e-02,  4.25338745e-02,  9.23156738e-04,\n",
       "        1.37645721e-01, -2.17994690e-01,  7.01179504e-02,  1.19804382e-01,\n",
       "        1.92695618e-01, -3.82804871e-02,  1.55982971e-01,  7.12604523e-01,\n",
       "        2.62348175e-01,  5.34839630e-01,  3.97811890e-01, -4.65011597e-02,\n",
       "        2.44007111e-01,  2.06298828e-01,  2.80395508e-01, -1.28215790e-01,\n",
       "        1.19510651e-01,  3.83369446e-01,  1.84364319e-01,  7.28576660e-01,\n",
       "        3.31802368e-01, -1.03233337e-01,  2.39532471e-01,  3.06026459e-01,\n",
       "        6.63108826e-01,  2.21443176e-02,  1.60049438e-01,  5.21602631e-01,\n",
       "       -4.34303284e-02,  7.98381805e-01,  2.21721649e-01,  3.89896393e-01,\n",
       "       -5.63812256e-02,  4.02378082e-01,  2.34169006e-01,  1.20426178e-01,\n",
       "        3.05473328e-01,  7.86239624e-01,  3.32374573e-02,  1.22549057e+00,\n",
       "        8.94645691e-01,  8.18328857e-02, -1.52206421e-02,  1.71024323e-01,\n",
       "       -6.85615540e-02, -1.07841492e-01, -5.02090454e-02,  2.98690796e-01,\n",
       "        3.57067108e-01,  9.57794189e-02,  8.85307312e-01, -3.33824158e-02,\n",
       "        5.99224091e-01,  8.95462036e-02,  9.83734131e-02,  3.54114532e-01,\n",
       "        2.35950470e-01, -6.73027039e-02,  1.44317627e-01,  4.17835236e-01,\n",
       "        5.87425232e-01,  2.16777802e-01, -3.33175659e-02,  1.00634384e+00,\n",
       "        4.25491333e-02, -1.73873901e-02,  2.48283386e-01, -5.93528748e-02,\n",
       "        2.22236633e-01, -7.19375610e-02,  8.46824646e-02,  7.15255737e-02,\n",
       "        3.49197388e-02,  4.43511963e-01,  1.86771393e-01,  1.83143616e-01,\n",
       "        7.56530762e-02,  1.36642456e-02,  1.84684753e-01,  2.32341766e-01,\n",
       "        5.30574799e-01,  1.60339355e-01,  3.95259857e-01, -4.49218750e-02,\n",
       "        8.39275360e-01,  1.65824890e-02, -1.69754028e-02, -2.14118958e-02,\n",
       "        1.46415710e-01,  1.38111115e-01, -3.34892273e-02,  4.14848328e-01,\n",
       "        6.57279968e-01, -4.92858887e-03,  2.86331177e-02,  4.61235046e-02,\n",
       "       -7.21740723e-02,  2.73803711e-01,  5.28602600e-01, -5.90744019e-02,\n",
       "        8.43128204e-01,  3.25851440e-01,  3.18874359e-01,  3.63769531e-02,\n",
       "       -8.51783752e-02,  2.83287048e-01,  3.01292419e-01,  1.37760162e-01,\n",
       "        3.35823059e-01,  4.12448883e-01,  3.75240326e-01,  1.24107361e-01,\n",
       "        2.87849426e-01,  9.06173706e-01,  4.45533752e-01,  2.74795532e-01,\n",
       "       -6.63757324e-03,  6.91806793e-01,  6.71936035e-01,  1.15345001e-01,\n",
       "        7.74543762e-01,  9.94365692e-01,  5.87623596e-01,  3.14315796e-01,\n",
       "        2.26413727e-01, -4.47578430e-02,  2.25990295e-01,  2.30579376e-01,\n",
       "        3.54934692e-01, -1.26598358e-01,  3.52630615e-02,  1.82212830e-01,\n",
       "        2.15366364e-01,  1.76094055e-01, -2.96592712e-02,  1.00048065e+00,\n",
       "        1.88205719e-01,  7.52090454e-01,  6.19819641e-01,  7.17834473e-01,\n",
       "        3.15586090e-01,  2.23503113e-02,  3.26412201e-01, -6.91604614e-03,\n",
       "        2.81551361e-01, -2.27737427e-02,  7.98416138e-02, -2.35366821e-03,\n",
       "        3.57093811e-01,  1.36497498e-01,  2.65785217e-01,  1.39770508e-02,\n",
       "        2.21099854e-01,  7.07351685e-01,  1.59507751e-01,  2.04505920e-01,\n",
       "        5.38249969e-01, -1.52603149e-01,  2.54837036e-01,  2.76405334e-01,\n",
       "        2.64007568e-01,  6.68945312e-02,  9.74357605e-01,  1.99996948e-01,\n",
       "        7.55752563e-01, -3.50036621e-02,  4.87682343e-01,  5.89370728e-03,\n",
       "       -7.24411011e-02,  3.05625916e-01, -2.05062866e-01,  1.90956116e-01,\n",
       "       -2.46276855e-02, -7.71522522e-02,  2.78911591e-01,  7.84149170e-02,\n",
       "        2.33879089e-01,  4.44839478e-01,  6.62193298e-02, -3.31039429e-02,\n",
       "        5.83164215e-01,  5.78117371e-02,  3.20449829e-01,  7.24193573e-01,\n",
       "        1.35353088e-01, -2.21786499e-02,  7.33036041e-01, -3.08315277e-01,\n",
       "        1.09129715e+00,  2.85919189e-01,  8.85040283e-01,  6.96605682e-01,\n",
       "        5.85208893e-01, -2.22702026e-02,  9.52075958e-01,  7.14981079e-01,\n",
       "        4.48509216e-01,  5.80463409e-01,  1.87084198e-01,  2.29621887e-01,\n",
       "       -5.77964783e-02,  3.15208435e-01,  8.74649048e-01, -1.67655945e-02,\n",
       "        2.52574921e-01, -3.35235596e-02, -4.40139771e-02,  4.13436890e-02,\n",
       "        2.35935211e-01,  2.03052521e-01,  8.81992340e-01,  5.87253571e-01,\n",
       "        1.20098114e-01, -2.02636719e-02, -1.93099976e-02,  1.03485107e-01,\n",
       "        8.28933716e-03,  2.29160309e-01, -1.69448853e-02,  7.15103149e-02,\n",
       "        1.62689209e-01,  1.70093536e-01,  2.46555328e-01,  1.47720337e-01,\n",
       "        3.91769409e-01, -6.66313171e-02,  1.15665436e-01,  1.84459686e-01,\n",
       "        9.06944275e-02, -1.80282593e-02,  2.09281921e-01, -1.30271912e-02,\n",
       "        5.46455383e-01,  4.15805817e-01,  1.78161621e-01,  1.71928406e-02,\n",
       "        4.93854523e-01,  1.47140503e-01,  5.24795532e-01,  5.98083496e-01,\n",
       "        3.08311462e-01,  3.09291840e-01,  4.46395874e-01,  1.68167114e-01,\n",
       "        2.60730743e-01,  7.56221771e-01,  4.06211853e-01,  4.90684509e-01,\n",
       "        5.14270782e-01, -1.30233765e-01,  7.89985657e-02,  3.50574493e-01,\n",
       "        1.00467682e+00,  2.73422241e-01,  6.35375977e-01,  5.78590393e-01,\n",
       "        4.68231201e-01,  3.74603271e-03,  3.59031677e-01,  6.74667358e-02,\n",
       "       -4.23736572e-02,  7.03289032e-01,  1.27109528e-01,  8.00056458e-01,\n",
       "        4.70836639e-01, -1.74331665e-02,  2.93540955e-02,  5.55168152e-01,\n",
       "        5.01251221e-02,  1.15303040e-01, -9.72366333e-03,  1.47514343e-01,\n",
       "        4.71160889e-01, -9.27276611e-02,  8.08830261e-02,  3.10440063e-02,\n",
       "        3.94805908e-01,  2.23724365e-01,  1.00328445e+00,  7.08099365e-01,\n",
       "        3.55995178e-01,  2.62931824e-01, -2.83699036e-02, -9.60922241e-03,\n",
       "        3.09295654e-02,  1.41696930e-01,  7.82432556e-02,  5.12565613e-01,\n",
       "        2.04780579e-01,  3.11691284e-01,  5.28484344e-01,  4.61906433e-01,\n",
       "        5.35850525e-02,  8.17226410e-01,  5.33908844e-01, -1.38175964e-01,\n",
       "        5.09422302e-01,  1.94137573e-01,  4.56207275e-01,  1.85184479e-01,\n",
       "        2.21954346e-01,  1.15592957e-01,  6.32705688e-02,  7.36999512e-02,\n",
       "        1.02420807e-01,  5.51368713e-01,  7.02941895e-01,  5.22094727e-01,\n",
       "        5.35076141e-01,  3.19671631e-02,  1.11106873e-01, -1.18644714e-01,\n",
       "        5.31883240e-01, -1.74385071e-01,  4.54479218e-01,  9.74369049e-01,\n",
       "        4.18209076e-01, -1.15993500e-01,  8.70712280e-01,  1.62197113e-01,\n",
       "        6.13063812e-01,  3.17169189e-01, -7.86476135e-02,  4.93953705e-01,\n",
       "        7.44884491e-01,  6.05430603e-02,  6.03523254e-02,  2.36804962e-01,\n",
       "        5.79196930e-01,  1.10740662e-01,  3.81813049e-01,  6.02245331e-01,\n",
       "        5.84335327e-02,  2.21794128e-01,  3.88984680e-01,  6.63681030e-01,\n",
       "        1.56127930e-01,  3.97323608e-01,  5.80177307e-01,  5.03784180e-01,\n",
       "        1.06452942e-01,  1.49784088e-01,  2.33234406e-01, -3.33404541e-03,\n",
       "       -2.86254883e-02,  2.65918732e-01,  2.60597229e-01, -6.16493225e-02,\n",
       "        1.46232605e-01,  8.24802399e-01,  5.68439484e-01, -9.56420898e-02,\n",
       "       -1.02485657e-01,  8.49647522e-02,  1.61613464e-01, -7.92617798e-02,\n",
       "        9.43881989e-01,  7.94219971e-02,  3.38409424e-01,  1.57981873e-01,\n",
       "       -6.93740845e-02,  2.15103149e-01,  4.78847504e-01,  2.15415955e-02,\n",
       "        5.34435272e-01,  1.42539978e-01, -1.58412933e-01,  9.99450684e-03,\n",
       "        2.26745605e-01,  3.34781647e-01,  6.04515076e-02, -2.09274292e-02,\n",
       "       -1.07875824e-01,  3.34335327e-01,  5.10131836e-01,  3.45962524e-01,\n",
       "       -8.67042542e-02, -4.99610901e-02,  5.05290985e-01,  8.22677612e-02,\n",
       "        6.74552917e-02,  3.23127747e-01,  3.38172913e-01,  5.37288666e-01,\n",
       "        2.91835785e-01,  3.30509186e-01, -4.10079956e-02,  8.27465057e-01,\n",
       "        6.03424072e-01,  2.36690521e-01,  7.02289581e-01,  4.44644928e-01,\n",
       "        5.81115723e-01,  1.90040588e-01,  5.45349121e-02,  9.38262939e-02,\n",
       "       -6.77337646e-02,  1.05976105e-01, -2.49328613e-02, -2.94647217e-02,\n",
       "        6.55975342e-02,  9.60807800e-02,  1.03275299e-01,  1.77742004e-01,\n",
       "        1.02092743e-01,  6.64066315e-01,  1.97711945e-01,  1.04751587e-01,\n",
       "        1.13414764e-01, -3.24935913e-02,  1.46587372e-01,  4.64931488e-01,\n",
       "        7.55542755e-01,  2.03907013e-01,  4.90112305e-01, -1.01318359e-01,\n",
       "        6.61655426e-01,  7.53456116e-01,  9.01077271e-01,  7.72949219e-01,\n",
       "        2.73399353e-01,  2.98080444e-01,  1.87110901e-01,  7.19886780e-01,\n",
       "        2.29789734e-01,  3.34659576e-01,  8.51558685e-01,  3.06625366e-02,\n",
       "       -3.74221802e-03, -7.81631470e-02,  7.49824524e-01,  2.04605103e-01,\n",
       "        4.06036377e-01,  3.32298279e-01,  1.81968689e-01,  8.23383331e-01,\n",
       "        5.03173828e-01,  6.34040833e-01, -5.08079529e-02,  4.26063538e-02,\n",
       "        1.11129761e-01,  1.89205170e-01,  6.00990295e-01,  4.09049988e-01,\n",
       "        6.87744141e-01,  2.89867401e-01, -9.20562744e-02,  4.46548462e-02,\n",
       "        1.98959351e-01,  6.18900299e-01,  1.41860962e-01,  6.98883057e-01,\n",
       "        3.11882019e-01,  1.26853943e-01,  8.11485291e-01,  6.24504089e-02,\n",
       "       -1.04473114e-01,  6.60362244e-02,  1.23668671e-01,  5.18733978e-01,\n",
       "       -5.96580505e-02,  6.39701843e-01, -1.29966736e-02,  3.84216309e-02,\n",
       "       -1.04919434e-01,  1.96537018e-01,  3.36124420e-01,  4.87991333e-01,\n",
       "        1.93794250e-01,  7.93251038e-01,  1.69384003e-01,  8.55827332e-02,\n",
       "        1.68659210e-01,  1.73145294e-01,  3.23867798e-02,  4.69257355e-01,\n",
       "        2.03109741e-01,  8.46668243e-01,  4.20867920e-01,  2.17914581e-01,\n",
       "        1.81156158e-01,  1.54876709e-01,  7.26318359e-01,  4.45228577e-01,\n",
       "        4.87518311e-01,  1.01600647e-01,  4.13127899e-01, -1.13231659e-01,\n",
       "        1.79401398e-01, -9.74655151e-03,  1.39060974e-01,  1.12003326e-01,\n",
       "        6.09592438e-01,  2.16407776e-02,  1.88301086e-01, -1.35334015e-01,\n",
       "        7.06451416e-01,  4.33094025e-01, -5.83610535e-02,  9.28714752e-01,\n",
       "        5.40615082e-01, -1.64794922e-03,  9.19021606e-01, -2.18811035e-02,\n",
       "        1.65412903e-01,  1.77818298e-01,  4.72892761e-01, -2.83050537e-03,\n",
       "        4.00367737e-01,  1.42021179e-02,  1.95346832e-01, -6.79931641e-02,\n",
       "        5.87230682e-01,  1.92462921e-01,  2.33299255e-01,  2.73635864e-01,\n",
       "        9.40689087e-01,  7.10098267e-01,  1.33388519e-01,  7.37075806e-02,\n",
       "        5.58242798e-02, -2.26387024e-01,  4.10957336e-02,  5.16967773e-02,\n",
       "        3.09715271e-02,  2.93586731e-01,  9.69341278e-01,  7.98652649e-01,\n",
       "       -2.29949951e-02,  5.26657104e-02,  2.64823914e-01,  1.75148010e-01,\n",
       "        7.06321716e-01,  1.73831940e-01,  3.44314575e-01])"
      ]
     },
     "execution_count": 21,
     "metadata": {},
     "output_type": "execute_result"
    }
   ],
   "source": [
    "predictions = LinearReg.predict(x_test)\n",
    "predictions"
   ]
  },
  {
   "cell_type": "markdown",
   "metadata": {},
   "source": [
    "#### Q4) Using the `predictions` and the `y_test` dataframe calculate the value for each metric using the appropriate function.\n"
   ]
  },
  {
   "cell_type": "code",
   "execution_count": 18,
   "metadata": {},
   "outputs": [
    {
     "data": {
      "text/plain": [
       "0.25631853059957954"
      ]
     },
     "execution_count": 18,
     "metadata": {},
     "output_type": "execute_result"
    }
   ],
   "source": [
    "#Enter Your Code, Execute and take the Screenshot\n",
    "mae = metrics.mean_absolute_error(y_test, predictions)\n",
    "mae"
   ]
  },
  {
   "cell_type": "code",
   "execution_count": 19,
   "metadata": {
    "scrolled": true
   },
   "outputs": [
    {
     "data": {
      "text/plain": [
       "0.11572181723808837"
      ]
     },
     "execution_count": 19,
     "metadata": {},
     "output_type": "execute_result"
    }
   ],
   "source": [
    "mse = metrics.mean_squared_error(predictions, y_test)\n",
    "mse"
   ]
  },
  {
   "cell_type": "code",
   "execution_count": 22,
   "metadata": {},
   "outputs": [
    {
     "data": {
      "text/plain": [
       "0.42712599648561245"
      ]
     },
     "execution_count": 22,
     "metadata": {},
     "output_type": "execute_result"
    }
   ],
   "source": [
    "r2_score = metrics.r2_score(y_test, predictions)\n",
    "r2_score"
   ]
  },
  {
   "cell_type": "code",
   "execution_count": 54,
   "metadata": {},
   "outputs": [
    {
     "data": {
      "text/plain": [
       "0.8842781827619116"
      ]
     },
     "execution_count": 54,
     "metadata": {},
     "output_type": "execute_result"
    }
   ],
   "source": [
    "r2_score = 1 - mse\n",
    "r2_score"
   ]
  },
  {
   "cell_type": "code",
   "execution_count": 39,
   "metadata": {},
   "outputs": [],
   "source": [
    "LinearRegression_MAE = 0.25631853059957954\n",
    "LinearRegression_MSE = 0.11572181723808837\n",
    "LinearRegression_R2 = 0.88427818276191160"
   ]
  },
  {
   "cell_type": "markdown",
   "metadata": {},
   "source": [
    "#### Q5) Show the MAE, MSE, and R2 in a tabular format using data frame for the linear model.\n"
   ]
  },
  {
   "cell_type": "code",
   "execution_count": 57,
   "metadata": {},
   "outputs": [],
   "source": [
    "#Enter Your Code, Execute and take the Screenshot\n",
    "l = [mae, mse, r2_score]\n",
    "col = [\"MAE\", \"MSE\", \"r2_score\"]"
   ]
  },
  {
   "cell_type": "code",
   "execution_count": 59,
   "metadata": {},
   "outputs": [],
   "source": [
    "rg = pd.DataFrame()"
   ]
  },
  {
   "cell_type": "code",
   "execution_count": 61,
   "metadata": {},
   "outputs": [
    {
     "data": {
      "text/html": [
       "<div>\n",
       "<style scoped>\n",
       "    .dataframe tbody tr th:only-of-type {\n",
       "        vertical-align: middle;\n",
       "    }\n",
       "\n",
       "    .dataframe tbody tr th {\n",
       "        vertical-align: top;\n",
       "    }\n",
       "\n",
       "    .dataframe thead th {\n",
       "        text-align: right;\n",
       "    }\n",
       "</style>\n",
       "<table border=\"1\" class=\"dataframe\">\n",
       "  <thead>\n",
       "    <tr style=\"text-align: right;\">\n",
       "      <th></th>\n",
       "      <th>Columns</th>\n",
       "      <th>Data</th>\n",
       "    </tr>\n",
       "  </thead>\n",
       "  <tbody>\n",
       "    <tr>\n",
       "      <th>0</th>\n",
       "      <td>MAE</td>\n",
       "      <td>0.256319</td>\n",
       "    </tr>\n",
       "    <tr>\n",
       "      <th>1</th>\n",
       "      <td>MSE</td>\n",
       "      <td>0.115722</td>\n",
       "    </tr>\n",
       "    <tr>\n",
       "      <th>2</th>\n",
       "      <td>r2_score</td>\n",
       "      <td>0.884278</td>\n",
       "    </tr>\n",
       "  </tbody>\n",
       "</table>\n",
       "</div>"
      ],
      "text/plain": [
       "    Columns      Data\n",
       "0       MAE  0.256319\n",
       "1       MSE  0.115722\n",
       "2  r2_score  0.884278"
      ]
     },
     "execution_count": 61,
     "metadata": {},
     "output_type": "execute_result"
    }
   ],
   "source": [
    "rg[\"Columns\"] = col\n",
    "rg[\"Data\"] = l\n",
    "rg"
   ]
  },
  {
   "cell_type": "markdown",
   "metadata": {},
   "source": [
    "### KNN\n"
   ]
  },
  {
   "cell_type": "markdown",
   "metadata": {},
   "source": [
    "#### Q6) Create and train a KNN model called KNN using the training data (`x_train`, `y_train`) with the `n_neighbors` parameter set to `4`.\n"
   ]
  },
  {
   "cell_type": "code",
   "execution_count": 24,
   "metadata": {},
   "outputs": [],
   "source": [
    "#Enter Your Code, Execute and take the Screenshot"
   ]
  },
  {
   "cell_type": "code",
   "execution_count": 25,
   "metadata": {},
   "outputs": [],
   "source": [
    "KNN = KNeighborsClassifier(n_neighbors = 4).fit(x_train_scale,y_train)"
   ]
  },
  {
   "cell_type": "markdown",
   "metadata": {},
   "source": [
    "#### Q7) Now use the `predict` method on the testing data (`x_test`) and save it to the array `predictions`.\n"
   ]
  },
  {
   "cell_type": "code",
   "execution_count": 26,
   "metadata": {},
   "outputs": [],
   "source": [
    "#Enter Your Code, Execute and take the Screenshot"
   ]
  },
  {
   "cell_type": "code",
   "execution_count": 27,
   "metadata": {},
   "outputs": [],
   "source": [
    "predictions = KNN.predict(x_test_scale)"
   ]
  },
  {
   "cell_type": "markdown",
   "metadata": {},
   "source": [
    "#### Q8) Using the `predictions` and the `y_test` dataframe calculate the value for each metric using the appropriate function.\n"
   ]
  },
  {
   "cell_type": "code",
   "execution_count": 28,
   "metadata": {},
   "outputs": [
    {
     "data": {
      "text/plain": [
       "0.7603053435114504"
      ]
     },
     "execution_count": 28,
     "metadata": {},
     "output_type": "execute_result"
    }
   ],
   "source": [
    "#Enter Your Code, Execute and take the Screenshot\n",
    "knn_acc_score = metrics.accuracy_score(predictions, y_test)\n",
    "knn_acc_score"
   ]
  },
  {
   "cell_type": "code",
   "execution_count": 70,
   "metadata": {},
   "outputs": [
    {
     "data": {
      "text/plain": [
       "0.4251207729468599"
      ]
     },
     "execution_count": 70,
     "metadata": {},
     "output_type": "execute_result"
    }
   ],
   "source": [
    "knn_jcc_idx = metrics.jaccard_score(predictions, y_test)\n",
    "knn_jcc_idx"
   ]
  },
  {
   "cell_type": "code",
   "execution_count": 72,
   "metadata": {},
   "outputs": [
    {
     "data": {
      "text/plain": [
       "0.5966101694915255"
      ]
     },
     "execution_count": 72,
     "metadata": {},
     "output_type": "execute_result"
    }
   ],
   "source": [
    "knn_f1_score = metrics.f1_score(predictions, y_test)\n",
    "knn_f1_score"
   ]
  },
  {
   "cell_type": "code",
   "execution_count": 73,
   "metadata": {},
   "outputs": [],
   "source": [
    "KNN_Accuracy_Score = 0.8183206106870229\n",
    "KNN_JaccardIndex = 0.4251207729468599\n",
    "KNN_F1_Score = 0.5966101694915255"
   ]
  },
  {
   "cell_type": "markdown",
   "metadata": {},
   "source": [
    "### Decision Tree\n"
   ]
  },
  {
   "cell_type": "markdown",
   "metadata": {},
   "source": [
    "#### Q9) Create and train a Decision Tree model called Tree using the training data (`x_train`, `y_train`).\n"
   ]
  },
  {
   "cell_type": "code",
   "execution_count": null,
   "metadata": {},
   "outputs": [],
   "source": [
    "#Enter Your Code, Execute and take the Screenshot"
   ]
  },
  {
   "cell_type": "code",
   "execution_count": 74,
   "metadata": {},
   "outputs": [],
   "source": [
    "Tree = DecisionTreeClassifier(criterion=\"entropy\", max_depth = 4).fit(x_train,y_train)"
   ]
  },
  {
   "cell_type": "markdown",
   "metadata": {},
   "source": [
    "#### Q10) Now use the `predict` method on the testing data (`x_test`) and save it to the array `predictions`.\n"
   ]
  },
  {
   "cell_type": "code",
   "execution_count": null,
   "metadata": {},
   "outputs": [],
   "source": [
    "#Enter Your Code, Execute and take the Screenshot"
   ]
  },
  {
   "cell_type": "code",
   "execution_count": 75,
   "metadata": {},
   "outputs": [],
   "source": [
    "predictions = Tree.predict(x_test)"
   ]
  },
  {
   "cell_type": "markdown",
   "metadata": {},
   "source": [
    "#### Q11) Using the `predictions` and the `y_test` dataframe calculate the value for each metric using the appropriate function.\n"
   ]
  },
  {
   "cell_type": "code",
   "execution_count": null,
   "metadata": {},
   "outputs": [],
   "source": [
    "#Enter Your Code, Execute and take the Screenshot"
   ]
  },
  {
   "cell_type": "code",
   "execution_count": 78,
   "metadata": {},
   "outputs": [
    {
     "data": {
      "text/plain": [
       "0.8183206106870229"
      ]
     },
     "execution_count": 78,
     "metadata": {},
     "output_type": "execute_result"
    }
   ],
   "source": [
    "Tree_acc_score = metrics.accuracy_score(predictions, y_test)\n",
    "Tree_acc_score"
   ]
  },
  {
   "cell_type": "code",
   "execution_count": 79,
   "metadata": {},
   "outputs": [
    {
     "data": {
      "text/plain": [
       "0.48034934497816595"
      ]
     },
     "execution_count": 79,
     "metadata": {},
     "output_type": "execute_result"
    }
   ],
   "source": [
    "Tree_jac_idx = metrics.jaccard_score(predictions, y_test)\n",
    "Tree_jac_idx"
   ]
  },
  {
   "cell_type": "code",
   "execution_count": 81,
   "metadata": {},
   "outputs": [
    {
     "data": {
      "text/plain": [
       "0.6489675516224188"
      ]
     },
     "execution_count": 81,
     "metadata": {},
     "output_type": "execute_result"
    }
   ],
   "source": [
    "Tree_f1_score = metrics.f1_score(predictions, y_test)\n",
    "Tree_f1_score"
   ]
  },
  {
   "cell_type": "code",
   "execution_count": 82,
   "metadata": {},
   "outputs": [],
   "source": [
    "Tree_Accuracy_Score = 0.8183206106870229\n",
    "Tree_JaccardIndex = 0.48034934497816595\n",
    "Tree_F1_Score = 0.6489675516224188"
   ]
  },
  {
   "cell_type": "markdown",
   "metadata": {},
   "source": [
    "### Logistic Regression\n"
   ]
  },
  {
   "cell_type": "markdown",
   "metadata": {},
   "source": [
    "#### Q12) Use the `train_test_split` function to split the `features` and `Y` dataframes with a `test_size` of `0.2` and the `random_state` set to `1`.\n"
   ]
  },
  {
   "cell_type": "code",
   "execution_count": null,
   "metadata": {},
   "outputs": [],
   "source": [
    "#Enter Your Code, Execute and take the Screenshot"
   ]
  },
  {
   "cell_type": "code",
   "execution_count": 83,
   "metadata": {},
   "outputs": [],
   "source": [
    "x_train, x_test, y_train, y_test = train_test_split(features, Y, test_size=0.2, random_state=1)"
   ]
  },
  {
   "cell_type": "markdown",
   "metadata": {},
   "source": [
    "#### Q13) Create and train a LogisticRegression model called LR using the training data (`x_train`, `y_train`) with the `solver` parameter set to `liblinear`.\n"
   ]
  },
  {
   "cell_type": "code",
   "execution_count": null,
   "metadata": {},
   "outputs": [],
   "source": [
    "#Enter Your Code, Execute and take the Screenshot"
   ]
  },
  {
   "cell_type": "code",
   "execution_count": 84,
   "metadata": {},
   "outputs": [],
   "source": [
    "LR = LogisticRegression(C=0.01, solver='liblinear').fit(x_train,y_train)"
   ]
  },
  {
   "cell_type": "markdown",
   "metadata": {},
   "source": [
    "#### Q14) Now, use the `predict` method on the testing data (`x_test`) and save it to the array `predictions`.\n"
   ]
  },
  {
   "cell_type": "code",
   "execution_count": null,
   "metadata": {},
   "outputs": [],
   "source": [
    "#Enter Your Code, Execute and take the Screenshot"
   ]
  },
  {
   "cell_type": "code",
   "execution_count": 85,
   "metadata": {},
   "outputs": [],
   "source": [
    "predictions = LR.predict(x_test)"
   ]
  },
  {
   "cell_type": "markdown",
   "metadata": {},
   "source": [
    "#### Q15) Using the `predictions` and the `y_test` dataframe calculate the value for each metric using the appropriate function.\n"
   ]
  },
  {
   "cell_type": "code",
   "execution_count": null,
   "metadata": {},
   "outputs": [],
   "source": [
    "#Enter Your Code, Execute and take the Screenshot"
   ]
  },
  {
   "cell_type": "code",
   "execution_count": 87,
   "metadata": {},
   "outputs": [
    {
     "data": {
      "text/plain": [
       "0.8274809160305343"
      ]
     },
     "execution_count": 87,
     "metadata": {},
     "output_type": "execute_result"
    }
   ],
   "source": [
    "Lr_acc_score = metrics.accuracy_score(predictions, y_test)\n",
    "Lr_acc_score"
   ]
  },
  {
   "cell_type": "code",
   "execution_count": 88,
   "metadata": {},
   "outputs": [
    {
     "data": {
      "text/plain": [
       "0.4840182648401826"
      ]
     },
     "execution_count": 88,
     "metadata": {},
     "output_type": "execute_result"
    }
   ],
   "source": [
    "Lr_jac_idx = metrics.jaccard_score(predictions, y_test)\n",
    "Lr_jac_idx"
   ]
  },
  {
   "cell_type": "code",
   "execution_count": 89,
   "metadata": {},
   "outputs": [
    {
     "data": {
      "text/plain": [
       "0.6523076923076923"
      ]
     },
     "execution_count": 89,
     "metadata": {},
     "output_type": "execute_result"
    }
   ],
   "source": [
    "Lr_f1_score = metrics.f1_score(predictions, y_test)\n",
    "Lr_f1_score"
   ]
  },
  {
   "cell_type": "code",
   "execution_count": 90,
   "metadata": {},
   "outputs": [
    {
     "data": {
      "text/plain": [
       "5.9586908427932865"
      ]
     },
     "execution_count": 90,
     "metadata": {},
     "output_type": "execute_result"
    }
   ],
   "source": [
    "Lr_logloss = metrics.log_loss(predictions, y_test)\n",
    "Lr_logloss"
   ]
  },
  {
   "cell_type": "code",
   "execution_count": 91,
   "metadata": {},
   "outputs": [],
   "source": [
    "LR_Accuracy_Score = 0.8274809160305343\n",
    "LR_JaccardIndex = 0.4840182648401826\n",
    "LR_F1_Score = 0.6523076923076923\n",
    "LR_Log_Loss = 5.9586908427932865"
   ]
  },
  {
   "cell_type": "markdown",
   "metadata": {},
   "source": [
    "### SVM\n"
   ]
  },
  {
   "cell_type": "markdown",
   "metadata": {},
   "source": [
    "#### Q16) Create and train a SVM model called SVM using the training data (`x_train`, `y_train`).\n"
   ]
  },
  {
   "cell_type": "code",
   "execution_count": null,
   "metadata": {},
   "outputs": [],
   "source": [
    "#Enter Your Code, Execute and take the Screenshot"
   ]
  },
  {
   "cell_type": "code",
   "execution_count": 94,
   "metadata": {},
   "outputs": [],
   "source": [
    "SVM = svm.SVC(kernel='rbf').fit(x_train, y_train)  "
   ]
  },
  {
   "cell_type": "markdown",
   "metadata": {},
   "source": [
    "#### Q17) Now use the `predict` method on the testing data (`x_test`) and save it to the array `predictions`.\n"
   ]
  },
  {
   "cell_type": "code",
   "execution_count": null,
   "metadata": {},
   "outputs": [],
   "source": [
    "#Enter Your Code, Execute and take the Screenshot"
   ]
  },
  {
   "cell_type": "code",
   "execution_count": 100,
   "metadata": {},
   "outputs": [],
   "source": [
    "predictions = SVM.predict(x_test)"
   ]
  },
  {
   "cell_type": "markdown",
   "metadata": {},
   "source": [
    "#### Q18) Using the `predictions` and the `y_test` dataframe calculate the value for each metric using the appropriate function.\n"
   ]
  },
  {
   "cell_type": "code",
   "execution_count": 97,
   "metadata": {},
   "outputs": [
    {
     "data": {
      "text/plain": [
       "0.7221374045801526"
      ]
     },
     "execution_count": 97,
     "metadata": {},
     "output_type": "execute_result"
    }
   ],
   "source": [
    "SVM_Accuracy_Score = metrics.accuracy_score(predictions, y_test)\n",
    "SVM_Accuracy_Score"
   ]
  },
  {
   "cell_type": "code",
   "execution_count": 101,
   "metadata": {},
   "outputs": [
    {
     "data": {
      "text/plain": [
       "0.7221374045801526"
      ]
     },
     "execution_count": 101,
     "metadata": {},
     "output_type": "execute_result"
    }
   ],
   "source": [
    "SVM_JaccardIndex = metrics.jaccard_score(predictions, y_test, average='weighted')\n",
    "SVM_JaccardIndex"
   ]
  },
  {
   "cell_type": "code",
   "execution_count": 105,
   "metadata": {},
   "outputs": [
    {
     "data": {
      "text/plain": [
       "0.8386524822695036"
      ]
     },
     "execution_count": 105,
     "metadata": {},
     "output_type": "execute_result"
    }
   ],
   "source": [
    "SVM_F1_Score = metrics.f1_score(predictions, y_test, pos_label=0)\n",
    "SVM_F1_Score"
   ]
  },
  {
   "cell_type": "code",
   "execution_count": 106,
   "metadata": {},
   "outputs": [],
   "source": [
    "SVM_Accuracy_Score = 0.7221374045801526\n",
    "SVM_JaccardIndex = 0.7221374045801526\n",
    "SVM_F1_Score = 0.8386524822695036"
   ]
  },
  {
   "cell_type": "markdown",
   "metadata": {},
   "source": [
    "### Report\n"
   ]
  },
  {
   "cell_type": "markdown",
   "metadata": {},
   "source": [
    "#### Q19) Show the Accuracy,Jaccard Index,F1-Score and LogLoss in a tabular format using data frame for all of the above models.\n",
    "\n",
    "\\*LogLoss is only for Logistic Regression Model\n"
   ]
  },
  {
   "cell_type": "code",
   "execution_count": 117,
   "metadata": {},
   "outputs": [],
   "source": [
    "#Enter Your Code, Execute and take the Screenshot\n",
    "ml=pd.DataFrame()"
   ]
  },
  {
   "cell_type": "code",
   "execution_count": 121,
   "metadata": {},
   "outputs": [
    {
     "data": {
      "text/html": [
       "<div>\n",
       "<style scoped>\n",
       "    .dataframe tbody tr th:only-of-type {\n",
       "        vertical-align: middle;\n",
       "    }\n",
       "\n",
       "    .dataframe tbody tr th {\n",
       "        vertical-align: top;\n",
       "    }\n",
       "\n",
       "    .dataframe thead th {\n",
       "        text-align: right;\n",
       "    }\n",
       "</style>\n",
       "<table border=\"1\" class=\"dataframe\">\n",
       "  <thead>\n",
       "    <tr style=\"text-align: right;\">\n",
       "      <th></th>\n",
       "      <th>Classifier</th>\n",
       "      <th>accuracy Score</th>\n",
       "      <th>Jaccard Index</th>\n",
       "      <th>f1-score</th>\n",
       "      <th>log loss</th>\n",
       "    </tr>\n",
       "  </thead>\n",
       "  <tbody>\n",
       "    <tr>\n",
       "      <th>0</th>\n",
       "      <td>knn</td>\n",
       "      <td>0.818321</td>\n",
       "      <td>0.425121</td>\n",
       "      <td>0.596610</td>\n",
       "      <td>no</td>\n",
       "    </tr>\n",
       "    <tr>\n",
       "      <th>1</th>\n",
       "      <td>des Tree</td>\n",
       "      <td>0.818321</td>\n",
       "      <td>0.480349</td>\n",
       "      <td>0.648968</td>\n",
       "      <td>no</td>\n",
       "    </tr>\n",
       "    <tr>\n",
       "      <th>2</th>\n",
       "      <td>Log reg</td>\n",
       "      <td>0.827481</td>\n",
       "      <td>0.484018</td>\n",
       "      <td>0.652308</td>\n",
       "      <td>5.958691</td>\n",
       "    </tr>\n",
       "    <tr>\n",
       "      <th>3</th>\n",
       "      <td>SVM</td>\n",
       "      <td>0.722137</td>\n",
       "      <td>0.722137</td>\n",
       "      <td>0.838652</td>\n",
       "      <td>no</td>\n",
       "    </tr>\n",
       "  </tbody>\n",
       "</table>\n",
       "</div>"
      ],
      "text/plain": [
       "  Classifier  accuracy Score  Jaccard Index  f1-score  log loss\n",
       "0        knn        0.818321       0.425121  0.596610        no\n",
       "1   des Tree        0.818321       0.480349  0.648968        no\n",
       "2    Log reg        0.827481       0.484018  0.652308  5.958691\n",
       "3        SVM        0.722137       0.722137  0.838652        no"
      ]
     },
     "execution_count": 121,
     "metadata": {},
     "output_type": "execute_result"
    }
   ],
   "source": [
    "clas = [\"knn\", \"des Tree\", \"Log reg\", \"SVM\"]\n",
    "acc = [knn_acc_score, Tree_Accuracy_Score, Lr_acc_score, SVM_Accuracy_Score]\n",
    "jac = [knn_jcc_idx, Tree_jac_idx, Lr_jac_idx, SVM_JaccardIndex]\n",
    "fsco = [KNN_F1_Score, Tree_f1_score, Lr_f1_score, SVM_F1_Score]\n",
    "log = [\"no\", \"no\", Lr_logloss, \"no\"]\n",
    "ml[\"Classifier\"] = clas\n",
    "ml[\"accuracy Score\"] = acc\n",
    "ml[\"Jaccard Index\"] = jac\n",
    "ml[\"f1-score\"] = fsco\n",
    "ml[\"log loss\"] = log\n",
    "ml"
   ]
  }
 ],
 "metadata": {
  "kernelspec": {
   "display_name": "Python 3 (ipykernel)",
   "language": "python",
   "name": "python3"
  },
  "language_info": {
   "codemirror_mode": {
    "name": "ipython",
    "version": 3
   },
   "file_extension": ".py",
   "mimetype": "text/x-python",
   "name": "python",
   "nbconvert_exporter": "python",
   "pygments_lexer": "ipython3",
   "version": "3.9.7"
  }
 },
 "nbformat": 4,
 "nbformat_minor": 4
}
